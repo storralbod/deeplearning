{
 "cells": [
  {
   "cell_type": "markdown",
   "metadata": {},
   "source": [
    "### This one works"
   ]
  },
  {
   "cell_type": "code",
   "execution_count": 28,
   "metadata": {},
   "outputs": [
    {
     "name": "stderr",
     "output_type": "stream",
     "text": [
      "2024-12-10 00:27:06,246 INFO [2024-09-28T00:00:00] **Welcome to the New Climate Data Store (CDS)!** This new system is in its early days of full operations and still undergoing enhancements and fine tuning. Some disruptions are to be expected. Your \n",
      "[feedback](https://jira.ecmwf.int/plugins/servlet/desk/portal/1/create/202) is key to improve the user experience on the new CDS for the benefit of everyone. Thank you.\n",
      "2024-12-10 00:27:06,247 INFO [2024-09-26T00:00:00] Watch our [Forum](https://forum.ecmwf.int/) for Announcements, news and other discussed topics.\n",
      "2024-12-10 00:27:06,247 INFO [2024-09-16T00:00:00] Remember that you need to have an ECMWF account to use the new CDS. **Your old CDS credentials will not work in new CDS!**\n",
      "2024-12-10 00:27:06,248 WARNING [2024-06-16T00:00:00] CDS API syntax is changed and some keys or parameter names may have also changed. To avoid requests failing, please use the \"Show API request code\" tool on the dataset Download Form to check you are using the correct syntax for your API request.\n"
     ]
    },
    {
     "name": "stdout",
     "output_type": "stream",
     "text": [
      "Processing month: 01...\n",
      "File temp_weather_data/2024/01/Madrid_2024-01.grib already exists. Skipping download.\n",
      "File temp_weather_data/2024/01/Barcelona_2024-01.grib already exists. Skipping download.\n",
      "File temp_weather_data/2024/01/Seville_2024-01.grib already exists. Skipping download.\n",
      "File temp_weather_data/2024/01/Valencia_2024-01.grib already exists. Skipping download.\n",
      "File temp_weather_data/2024/01/Castile-La Mancha (Wind)_2024-01.grib already exists. Skipping download.\n",
      "File temp_weather_data/2024/01/Aragon (Wind)_2024-01.grib already exists. Skipping download.\n",
      "File temp_weather_data/2024/01/Andalusia (Wind)_2024-01.grib already exists. Skipping download.\n",
      "File temp_weather_data/2024/01/Escatrón-Chiprana-Samper (Solar)_2024-01.grib already exists. Skipping download.\n",
      "File temp_weather_data/2024/01/Talasol Solar (Solar)_2024-01.grib already exists. Skipping download.\n",
      "File temp_weather_data/2024/01/Talayuela Solar (Solar)_2024-01.grib already exists. Skipping download.\n",
      "Processing month: 02...\n",
      "File temp_weather_data/2024/02/Madrid_2024-02.grib already exists. Skipping download.\n",
      "Requesting data for Barcelona (41.3851, 2.1734) for month 02...\n"
     ]
    },
    {
     "name": "stderr",
     "output_type": "stream",
     "text": [
      "2024-12-10 00:27:06,514 INFO Request ID is 1ab7f5e5-2bd0-4c87-acc7-9e68780b75d3\n",
      "2024-12-10 00:27:06,823 INFO status has been updated to accepted\n",
      "2024-12-10 00:27:15,190 INFO status has been updated to running\n",
      "2024-12-10 00:31:35,767 INFO status has been updated to successful\n",
      "                                                                                        \r"
     ]
    },
    {
     "name": "stdout",
     "output_type": "stream",
     "text": [
      "Data saved to temp_weather_data/2024/02/Barcelona_2024-02.grib.\n",
      "Requesting data for Seville (37.3891, -5.9845) for month 02...\n"
     ]
    },
    {
     "name": "stderr",
     "output_type": "stream",
     "text": [
      "2024-12-10 00:31:36,523 INFO Request ID is 82490b93-cb94-4f24-bb37-f9fde7566d53\n",
      "2024-12-10 00:31:36,618 INFO status has been updated to accepted\n",
      "2024-12-10 00:31:45,553 INFO status has been updated to running\n",
      "2024-12-10 00:37:56,029 INFO status has been updated to successful\n",
      "                                                                                        \r"
     ]
    },
    {
     "name": "stdout",
     "output_type": "stream",
     "text": [
      "Data saved to temp_weather_data/2024/02/Seville_2024-02.grib.\n",
      "Requesting data for Valencia (39.4699, -0.3763) for month 02...\n"
     ]
    },
    {
     "name": "stderr",
     "output_type": "stream",
     "text": [
      "2024-12-10 00:37:56,856 INFO Request ID is 2229cd67-ded7-4f9c-bc4d-fa462e284b09\n",
      "2024-12-10 00:37:56,916 INFO status has been updated to accepted\n",
      "2024-12-10 00:38:05,319 INFO status has been updated to running\n",
      "2024-12-10 00:42:15,976 INFO status has been updated to successful\n",
      "2024-12-10 00:42:16,905 INFO Request ID is e2aa28e4-0407-4477-9d58-2c4863fc1da9        \n"
     ]
    },
    {
     "name": "stdout",
     "output_type": "stream",
     "text": [
      "Data saved to temp_weather_data/2024/02/Valencia_2024-02.grib.\n",
      "Requesting data for Castile-La Mancha (Wind) (39.8951, -3.0407) for month 02...\n"
     ]
    },
    {
     "name": "stderr",
     "output_type": "stream",
     "text": [
      "2024-12-10 00:42:16,972 INFO status has been updated to accepted\n",
      "2024-12-10 00:42:25,607 INFO status has been updated to running\n",
      "2024-12-10 00:46:40,932 INFO status has been updated to successful\n",
      "2024-12-10 00:46:41,745 INFO Request ID is 0b7b23c8-fc40-4899-82e3-1153eebafcf3         \n"
     ]
    },
    {
     "name": "stdout",
     "output_type": "stream",
     "text": [
      "Data saved to temp_weather_data/2024/02/Castile-La Mancha (Wind)_2024-02.grib.\n",
      "Requesting data for Aragon (Wind) (41.6488, -0.8891) for month 02...\n"
     ]
    },
    {
     "name": "stderr",
     "output_type": "stream",
     "text": [
      "2024-12-10 00:46:41,807 INFO status has been updated to accepted\n",
      "2024-12-10 00:46:50,163 INFO status has been updated to running\n",
      "2024-12-10 00:51:05,674 INFO status has been updated to successful\n",
      "                                                                                        \r"
     ]
    },
    {
     "name": "stdout",
     "output_type": "stream",
     "text": [
      "Data saved to temp_weather_data/2024/02/Aragon (Wind)_2024-02.grib.\n",
      "Requesting data for Andalusia (Wind) (37.3886, -5.9823) for month 02...\n"
     ]
    },
    {
     "name": "stderr",
     "output_type": "stream",
     "text": [
      "2024-12-10 00:51:06,538 INFO Request ID is c5612216-a64f-453c-b485-fc07815ab68e\n",
      "2024-12-10 00:51:06,652 INFO status has been updated to accepted\n",
      "2024-12-10 00:51:20,343 INFO status has been updated to running\n",
      "2024-12-10 00:55:25,593 INFO status has been updated to successful\n",
      "                                                                                        \r"
     ]
    },
    {
     "name": "stdout",
     "output_type": "stream",
     "text": [
      "Data saved to temp_weather_data/2024/02/Andalusia (Wind)_2024-02.grib.\n",
      "Requesting data for Escatrón-Chiprana-Samper (Solar) (41.3842, -0.3743) for month 02...\n"
     ]
    },
    {
     "name": "stderr",
     "output_type": "stream",
     "text": [
      "2024-12-10 00:55:27,111 INFO Request ID is d8a97450-3a69-4525-bcfc-78ad0cef9398\n",
      "2024-12-10 00:55:27,173 INFO status has been updated to accepted\n",
      "2024-12-10 00:55:35,645 INFO status has been updated to running\n",
      "2024-12-10 00:59:46,183 INFO status has been updated to successful\n",
      "                                                                                        \r"
     ]
    },
    {
     "name": "stdout",
     "output_type": "stream",
     "text": [
      "Data saved to temp_weather_data/2024/02/Escatrón-Chiprana-Samper (Solar)_2024-02.grib.\n",
      "Requesting data for Talasol Solar (Solar) (39.7291, -6.3391) for month 02...\n"
     ]
    },
    {
     "name": "stderr",
     "output_type": "stream",
     "text": [
      "2024-12-10 00:59:47,108 INFO Request ID is 2f6d9e57-555a-498b-82dd-7b54998f4305\n",
      "2024-12-10 00:59:47,170 INFO status has been updated to accepted\n",
      "2024-12-10 00:59:55,550 INFO status has been updated to running\n",
      "2024-12-10 01:04:06,290 INFO status has been updated to successful\n",
      "2024-12-10 01:04:07,056 INFO Request ID is c3747bbc-a0c8-433e-b18a-8f45678ab4fd         \n"
     ]
    },
    {
     "name": "stdout",
     "output_type": "stream",
     "text": [
      "Data saved to temp_weather_data/2024/02/Talasol Solar (Solar)_2024-02.grib.\n",
      "Requesting data for Talayuela Solar (Solar) (39.9862, -5.9815) for month 02...\n"
     ]
    },
    {
     "name": "stderr",
     "output_type": "stream",
     "text": [
      "2024-12-10 01:04:07,193 INFO status has been updated to accepted\n",
      "2024-12-10 01:04:12,094 INFO status has been updated to running\n",
      "2024-12-10 01:08:25,761 INFO status has been updated to successful\n",
      "2024-12-10 01:08:26,519 INFO Request ID is e9d11eba-3269-4493-a33d-44edba6f5cef         \n"
     ]
    },
    {
     "name": "stdout",
     "output_type": "stream",
     "text": [
      "Data saved to temp_weather_data/2024/02/Talayuela Solar (Solar)_2024-02.grib.\n",
      "Processing month: 03...\n",
      "Requesting data for Madrid (40.4165, -3.7026) for month 03...\n"
     ]
    },
    {
     "name": "stderr",
     "output_type": "stream",
     "text": [
      "2024-12-10 01:08:26,571 INFO status has been updated to accepted\n",
      "2024-12-10 01:08:31,560 INFO status has been updated to running\n",
      "2024-12-10 01:12:45,308 INFO status has been updated to successful\n",
      "                                                                                        \r"
     ]
    },
    {
     "name": "stdout",
     "output_type": "stream",
     "text": [
      "Data saved to temp_weather_data/2024/03/Madrid_2024-03.grib.\n",
      "Requesting data for Barcelona (41.3851, 2.1734) for month 03...\n"
     ]
    },
    {
     "name": "stderr",
     "output_type": "stream",
     "text": [
      "2024-12-10 01:12:46,455 INFO Request ID is 7621dddb-8826-4b75-aea6-4642580cc91d\n",
      "2024-12-10 01:12:46,516 INFO status has been updated to accepted\n",
      "2024-12-10 01:13:00,183 INFO status has been updated to running\n",
      "2024-12-10 01:19:05,666 INFO status has been updated to successful\n",
      "                                                                                        \r"
     ]
    },
    {
     "name": "stdout",
     "output_type": "stream",
     "text": [
      "Data saved to temp_weather_data/2024/03/Barcelona_2024-03.grib.\n",
      "Requesting data for Seville (37.3891, -5.9845) for month 03...\n"
     ]
    },
    {
     "name": "stderr",
     "output_type": "stream",
     "text": [
      "2024-12-10 01:19:06,837 INFO Request ID is 91101569-0e38-4e5d-88a3-8d43ae04749d\n",
      "2024-12-10 01:19:06,976 INFO status has been updated to accepted\n",
      "2024-12-10 01:19:11,871 INFO status has been updated to running\n",
      "2024-12-10 01:25:26,099 INFO status has been updated to successful\n",
      "2024-12-10 01:25:27,123 INFO Request ID is 7a2007e7-171a-4494-9ac9-37411eb70854         \n"
     ]
    },
    {
     "name": "stdout",
     "output_type": "stream",
     "text": [
      "Data saved to temp_weather_data/2024/03/Seville_2024-03.grib.\n",
      "Requesting data for Valencia (39.4699, -0.3763) for month 03...\n"
     ]
    },
    {
     "name": "stderr",
     "output_type": "stream",
     "text": [
      "2024-12-10 01:25:27,180 INFO status has been updated to accepted\n",
      "2024-12-10 01:25:35,523 INFO status has been updated to running\n",
      "2024-12-10 01:29:50,683 INFO status has been updated to successful\n",
      "2024-12-10 01:29:51,368 INFO Request ID is 405cc2f1-6137-4a7a-80a5-272d20e82a67         \n",
      "2024-12-10 01:29:51,434 INFO status has been updated to accepted\n"
     ]
    },
    {
     "name": "stdout",
     "output_type": "stream",
     "text": [
      "Data saved to temp_weather_data/2024/03/Valencia_2024-03.grib.\n",
      "Requesting data for Castile-La Mancha (Wind) (39.8951, -3.0407) for month 03...\n"
     ]
    },
    {
     "name": "stderr",
     "output_type": "stream",
     "text": [
      "2024-12-10 01:29:59,897 INFO status has been updated to running\n",
      "2024-12-10 01:38:15,747 INFO status has been updated to successful\n",
      "                                                                                        \r"
     ]
    },
    {
     "name": "stdout",
     "output_type": "stream",
     "text": [
      "Data saved to temp_weather_data/2024/03/Castile-La Mancha (Wind)_2024-03.grib.\n",
      "Requesting data for Aragon (Wind) (41.6488, -0.8891) for month 03...\n"
     ]
    },
    {
     "name": "stderr",
     "output_type": "stream",
     "text": [
      "2024-12-10 01:38:16,557 INFO Request ID is 889e2e7a-74b6-4cac-b529-a775d1cd2e85\n",
      "2024-12-10 01:38:16,600 INFO status has been updated to accepted\n",
      "2024-12-10 01:38:24,997 INFO status has been updated to running\n",
      "2024-12-10 01:44:35,692 INFO status has been updated to successful\n",
      "2024-12-10 01:44:36,442 INFO Request ID is 32f33a45-3f45-448c-a38d-ea79b5a6f7ae         \n"
     ]
    },
    {
     "name": "stdout",
     "output_type": "stream",
     "text": [
      "Data saved to temp_weather_data/2024/03/Aragon (Wind)_2024-03.grib.\n",
      "Requesting data for Andalusia (Wind) (37.3886, -5.9823) for month 03...\n"
     ]
    },
    {
     "name": "stderr",
     "output_type": "stream",
     "text": [
      "2024-12-10 01:44:36,528 INFO status has been updated to accepted\n",
      "2024-12-10 01:44:50,036 INFO status has been updated to running\n",
      "2024-12-10 01:48:55,488 INFO status has been updated to successful\n",
      "                                                                                        \r"
     ]
    },
    {
     "name": "stdout",
     "output_type": "stream",
     "text": [
      "Data saved to temp_weather_data/2024/03/Andalusia (Wind)_2024-03.grib.\n",
      "Requesting data for Escatrón-Chiprana-Samper (Solar) (41.3842, -0.3743) for month 03...\n"
     ]
    },
    {
     "name": "stderr",
     "output_type": "stream",
     "text": [
      "2024-12-10 01:48:56,621 INFO Request ID is 578fb833-9010-4c3f-8056-db4fba4f7f25\n",
      "2024-12-10 01:48:56,763 INFO status has been updated to accepted\n",
      "2024-12-10 01:49:05,483 INFO status has been updated to running\n",
      "2024-12-10 01:55:16,284 INFO status has been updated to successful\n",
      "                                                                                        \r"
     ]
    },
    {
     "name": "stdout",
     "output_type": "stream",
     "text": [
      "Data saved to temp_weather_data/2024/03/Escatrón-Chiprana-Samper (Solar)_2024-03.grib.\n",
      "Requesting data for Talasol Solar (Solar) (39.7291, -6.3391) for month 03...\n"
     ]
    },
    {
     "name": "stderr",
     "output_type": "stream",
     "text": [
      "2024-12-10 01:55:17,402 INFO Request ID is 09b78ec7-efbb-4dff-b7e7-adc9e2618ddf\n",
      "2024-12-10 01:55:17,481 INFO status has been updated to accepted\n",
      "2024-12-10 01:55:26,013 INFO status has been updated to running\n",
      "2024-12-10 02:05:37,793 INFO status has been updated to successful\n",
      "                                                                                        \r"
     ]
    },
    {
     "name": "stdout",
     "output_type": "stream",
     "text": [
      "Data saved to temp_weather_data/2024/03/Talasol Solar (Solar)_2024-03.grib.\n",
      "Requesting data for Talayuela Solar (Solar) (39.9862, -5.9815) for month 03...\n"
     ]
    },
    {
     "name": "stderr",
     "output_type": "stream",
     "text": [
      "2024-12-10 02:05:38,988 INFO Request ID is 391575d8-8453-4c38-bb70-2ee5203eefa7\n",
      "2024-12-10 02:05:39,117 INFO status has been updated to accepted\n",
      "2024-12-10 02:05:47,969 INFO status has been updated to running\n",
      "2024-12-10 02:09:59,148 INFO status has been updated to successful\n",
      "                                                                                        \r"
     ]
    },
    {
     "name": "stdout",
     "output_type": "stream",
     "text": [
      "Data saved to temp_weather_data/2024/03/Talayuela Solar (Solar)_2024-03.grib.\n",
      "Processing month: 04...\n",
      "Requesting data for Madrid (40.4165, -3.7026) for month 04...\n"
     ]
    },
    {
     "name": "stderr",
     "output_type": "stream",
     "text": [
      "2024-12-10 02:09:59,918 INFO Request ID is 60a8a478-4094-45d2-a362-eae8b2b2814c\n",
      "2024-12-10 02:10:00,046 INFO status has been updated to accepted\n",
      "2024-12-10 02:10:05,419 INFO status has been updated to running\n",
      "2024-12-10 02:16:20,063 INFO status has been updated to successful\n",
      "                                                                                        \r"
     ]
    },
    {
     "name": "stdout",
     "output_type": "stream",
     "text": [
      "Data saved to temp_weather_data/2024/04/Madrid_2024-04.grib.\n",
      "Requesting data for Barcelona (41.3851, 2.1734) for month 04...\n"
     ]
    },
    {
     "name": "stderr",
     "output_type": "stream",
     "text": [
      "2024-12-10 02:16:20,903 INFO Request ID is cbd1eae6-ca0a-4691-874a-e19f948e44ab\n",
      "2024-12-10 02:16:21,061 INFO status has been updated to accepted\n",
      "2024-12-10 02:16:29,684 INFO status has been updated to running\n",
      "2024-12-10 02:22:41,030 INFO status has been updated to successful\n",
      "2024-12-10 02:22:41,838 INFO Request ID is 3c1e90f2-c0ed-4d70-93ee-9ab07e752ec3         \n"
     ]
    },
    {
     "name": "stdout",
     "output_type": "stream",
     "text": [
      "Data saved to temp_weather_data/2024/04/Barcelona_2024-04.grib.\n",
      "Requesting data for Seville (37.3891, -5.9845) for month 04...\n"
     ]
    },
    {
     "name": "stderr",
     "output_type": "stream",
     "text": [
      "2024-12-10 02:22:41,958 INFO status has been updated to accepted\n",
      "2024-12-10 02:22:50,482 INFO status has been updated to running\n",
      "2024-12-10 02:31:16,109 INFO status has been updated to successful\n",
      "                                                                                        \r"
     ]
    },
    {
     "name": "stdout",
     "output_type": "stream",
     "text": [
      "Data saved to temp_weather_data/2024/04/Seville_2024-04.grib.\n",
      "Requesting data for Valencia (39.4699, -0.3763) for month 04...\n"
     ]
    },
    {
     "name": "stderr",
     "output_type": "stream",
     "text": [
      "2024-12-10 02:31:17,901 INFO Request ID is 822d9bd8-cfd3-4efc-87d0-e1e35171f487\n",
      "2024-12-10 02:31:17,981 INFO status has been updated to accepted\n",
      "2024-12-10 02:33:12,976 INFO status has been updated to running\n",
      "2024-12-10 02:37:37,980 INFO status has been updated to successful\n",
      "                                                                                        \r"
     ]
    },
    {
     "name": "stdout",
     "output_type": "stream",
     "text": [
      "Data saved to temp_weather_data/2024/04/Valencia_2024-04.grib.\n",
      "Requesting data for Castile-La Mancha (Wind) (39.8951, -3.0407) for month 04...\n"
     ]
    },
    {
     "name": "stderr",
     "output_type": "stream",
     "text": [
      "2024-12-10 02:37:38,954 INFO Request ID is 44fd641e-45dd-4768-86bc-f57a6c6f1837\n",
      "2024-12-10 02:37:39,096 INFO status has been updated to accepted\n",
      "2024-12-10 02:37:52,889 INFO status has been updated to running\n",
      "2024-12-10 02:41:58,414 INFO status has been updated to successful\n",
      "2024-12-10 02:41:59,080 INFO Request ID is 6ea0c80e-6e21-467c-96b9-1956191d3486         \n"
     ]
    },
    {
     "name": "stdout",
     "output_type": "stream",
     "text": [
      "Data saved to temp_weather_data/2024/04/Castile-La Mancha (Wind)_2024-04.grib.\n",
      "Requesting data for Aragon (Wind) (41.6488, -0.8891) for month 04...\n"
     ]
    },
    {
     "name": "stderr",
     "output_type": "stream",
     "text": [
      "2024-12-10 02:41:59,141 INFO status has been updated to accepted\n",
      "2024-12-10 02:42:04,069 INFO status has been updated to running\n",
      "2024-12-10 02:46:18,240 INFO status has been updated to successful\n",
      "                                                                                        \r"
     ]
    },
    {
     "name": "stdout",
     "output_type": "stream",
     "text": [
      "Data saved to temp_weather_data/2024/04/Aragon (Wind)_2024-04.grib.\n",
      "Requesting data for Andalusia (Wind) (37.3886, -5.9823) for month 04...\n"
     ]
    },
    {
     "name": "stderr",
     "output_type": "stream",
     "text": [
      "2024-12-10 02:46:19,699 INFO Request ID is f34735ff-d8be-4f97-b020-e15f6fd44227\n",
      "2024-12-10 02:46:19,764 INFO status has been updated to accepted\n",
      "2024-12-10 02:46:28,265 INFO status has been updated to running\n",
      "2024-12-10 02:52:39,172 INFO status has been updated to successful\n",
      "                                                                                        \r"
     ]
    },
    {
     "name": "stdout",
     "output_type": "stream",
     "text": [
      "Data saved to temp_weather_data/2024/04/Andalusia (Wind)_2024-04.grib.\n",
      "Requesting data for Escatrón-Chiprana-Samper (Solar) (41.3842, -0.3743) for month 04...\n"
     ]
    },
    {
     "name": "stderr",
     "output_type": "stream",
     "text": [
      "2024-12-10 02:52:39,986 INFO Request ID is 3e3a506e-0397-49f6-ac60-abe51c47ad46\n",
      "2024-12-10 02:52:40,054 INFO status has been updated to accepted\n",
      "2024-12-10 02:52:48,658 INFO status has been updated to running\n",
      "2024-12-10 02:56:59,284 INFO status has been updated to successful\n",
      "                                                                                        \r"
     ]
    },
    {
     "name": "stdout",
     "output_type": "stream",
     "text": [
      "Data saved to temp_weather_data/2024/04/Escatrón-Chiprana-Samper (Solar)_2024-04.grib.\n",
      "Requesting data for Talasol Solar (Solar) (39.7291, -6.3391) for month 04...\n"
     ]
    },
    {
     "name": "stderr",
     "output_type": "stream",
     "text": [
      "2024-12-10 02:57:00,212 INFO Request ID is 1bda808e-38fd-4960-8461-50afae293a71\n",
      "2024-12-10 02:57:00,356 INFO status has been updated to accepted\n",
      "2024-12-10 02:57:05,367 INFO status has been updated to running\n",
      "2024-12-10 03:01:19,498 INFO status has been updated to successful\n",
      "                                                                                        \r"
     ]
    },
    {
     "name": "stdout",
     "output_type": "stream",
     "text": [
      "Data saved to temp_weather_data/2024/04/Talasol Solar (Solar)_2024-04.grib.\n",
      "Requesting data for Talayuela Solar (Solar) (39.9862, -5.9815) for month 04...\n"
     ]
    },
    {
     "name": "stderr",
     "output_type": "stream",
     "text": [
      "2024-12-10 03:01:20,391 INFO Request ID is b4a32ddb-4c12-41b8-8574-0d9891e6a05b\n",
      "2024-12-10 03:01:20,519 INFO status has been updated to accepted\n",
      "2024-12-10 03:01:25,591 INFO status has been updated to running\n",
      "2024-12-10 03:05:39,988 INFO status has been updated to successful\n",
      "                                                                                        \r"
     ]
    },
    {
     "name": "stdout",
     "output_type": "stream",
     "text": [
      "Data saved to temp_weather_data/2024/04/Talayuela Solar (Solar)_2024-04.grib.\n",
      "Processing month: 05...\n",
      "Requesting data for Madrid (40.4165, -3.7026) for month 05...\n"
     ]
    },
    {
     "name": "stderr",
     "output_type": "stream",
     "text": [
      "2024-12-10 03:05:40,779 INFO Request ID is 20f78f8f-484d-4a8c-b373-7172861bcad6\n",
      "2024-12-10 03:05:40,861 INFO status has been updated to accepted\n",
      "2024-12-10 03:05:49,345 INFO status has been updated to running\n",
      "2024-12-10 03:12:00,077 INFO status has been updated to successful\n",
      "2024-12-10 03:12:00,850 INFO Request ID is 0520997c-552f-499b-b4ae-84bb73479ce8         \n"
     ]
    },
    {
     "name": "stdout",
     "output_type": "stream",
     "text": [
      "Data saved to temp_weather_data/2024/05/Madrid_2024-05.grib.\n",
      "Requesting data for Barcelona (41.3851, 2.1734) for month 05...\n"
     ]
    },
    {
     "name": "stderr",
     "output_type": "stream",
     "text": [
      "2024-12-10 03:12:00,980 INFO status has been updated to accepted\n",
      "2024-12-10 03:12:05,872 INFO status has been updated to running\n",
      "2024-12-10 03:16:19,999 INFO status has been updated to successful\n",
      "                                                                                        \r"
     ]
    },
    {
     "name": "stdout",
     "output_type": "stream",
     "text": [
      "Data saved to temp_weather_data/2024/05/Barcelona_2024-05.grib.\n",
      "Requesting data for Seville (37.3891, -5.9845) for month 05...\n"
     ]
    },
    {
     "name": "stderr",
     "output_type": "stream",
     "text": [
      "2024-12-10 03:16:20,737 INFO Request ID is 56d52dd4-88c2-4284-a8b2-d33f7cc8f30e\n",
      "2024-12-10 03:16:20,823 INFO status has been updated to accepted\n",
      "2024-12-10 03:16:25,833 INFO status has been updated to running\n",
      "2024-12-10 03:24:41,153 INFO status has been updated to successful\n",
      "                                                                                        \r"
     ]
    },
    {
     "name": "stdout",
     "output_type": "stream",
     "text": [
      "Data saved to temp_weather_data/2024/05/Seville_2024-05.grib.\n",
      "Requesting data for Valencia (39.4699, -0.3763) for month 05...\n"
     ]
    },
    {
     "name": "stderr",
     "output_type": "stream",
     "text": [
      "2024-12-10 03:24:42,074 INFO Request ID is 01ebc67a-1725-40bb-ade0-20f9df8a2375\n",
      "2024-12-10 03:24:42,127 INFO status has been updated to accepted\n",
      "2024-12-10 03:24:50,621 INFO status has been updated to running\n",
      "2024-12-10 03:29:01,293 INFO status has been updated to successful\n",
      "2024-12-10 03:29:02,382 INFO Request ID is d2ef8678-68dc-4985-9b81-743b0f8482fb         \n"
     ]
    },
    {
     "name": "stdout",
     "output_type": "stream",
     "text": [
      "Data saved to temp_weather_data/2024/05/Valencia_2024-05.grib.\n",
      "Requesting data for Castile-La Mancha (Wind) (39.8951, -3.0407) for month 05...\n"
     ]
    },
    {
     "name": "stderr",
     "output_type": "stream",
     "text": [
      "2024-12-10 03:29:02,779 INFO status has been updated to accepted\n",
      "2024-12-10 03:29:11,262 INFO status has been updated to running\n",
      "2024-12-10 03:33:22,084 INFO status has been updated to successful\n",
      "                                                                                        \r"
     ]
    },
    {
     "name": "stdout",
     "output_type": "stream",
     "text": [
      "Data saved to temp_weather_data/2024/05/Castile-La Mancha (Wind)_2024-05.grib.\n",
      "Requesting data for Aragon (Wind) (41.6488, -0.8891) for month 05...\n"
     ]
    },
    {
     "name": "stderr",
     "output_type": "stream",
     "text": [
      "2024-12-10 03:33:22,938 INFO Request ID is 729ff532-0877-4eaf-a581-47b43444b84f\n",
      "2024-12-10 03:33:23,069 INFO status has been updated to accepted\n",
      "2024-12-10 03:33:28,294 INFO status has been updated to running\n",
      "2024-12-10 03:37:41,976 INFO status has been updated to successful\n",
      "2024-12-10 03:37:42,913 INFO Request ID is a4440233-6c14-410e-bd68-ae7fd2be14fc         \n"
     ]
    },
    {
     "name": "stdout",
     "output_type": "stream",
     "text": [
      "Data saved to temp_weather_data/2024/05/Aragon (Wind)_2024-05.grib.\n",
      "Requesting data for Andalusia (Wind) (37.3886, -5.9823) for month 05...\n"
     ]
    },
    {
     "name": "stderr",
     "output_type": "stream",
     "text": [
      "2024-12-10 03:37:42,972 INFO status has been updated to accepted\n",
      "2024-12-10 03:37:51,418 INFO status has been updated to running\n",
      "2024-12-10 03:42:01,937 INFO status has been updated to successful\n",
      "                                                                                        \r"
     ]
    },
    {
     "name": "stdout",
     "output_type": "stream",
     "text": [
      "Data saved to temp_weather_data/2024/05/Andalusia (Wind)_2024-05.grib.\n",
      "Requesting data for Escatrón-Chiprana-Samper (Solar) (41.3842, -0.3743) for month 05...\n"
     ]
    },
    {
     "name": "stderr",
     "output_type": "stream",
     "text": [
      "2024-12-10 03:42:03,000 INFO Request ID is 2a4ef18f-6a10-472d-a6a7-21d22864500d\n",
      "2024-12-10 03:42:03,209 INFO status has been updated to accepted\n",
      "2024-12-10 03:42:12,204 INFO status has been updated to running\n",
      "2024-12-10 03:46:22,712 INFO status has been updated to successful\n",
      "                                                                                        \r"
     ]
    },
    {
     "name": "stdout",
     "output_type": "stream",
     "text": [
      "Data saved to temp_weather_data/2024/05/Escatrón-Chiprana-Samper (Solar)_2024-05.grib.\n",
      "Requesting data for Talasol Solar (Solar) (39.7291, -6.3391) for month 05...\n"
     ]
    },
    {
     "name": "stderr",
     "output_type": "stream",
     "text": [
      "2024-12-10 03:46:23,532 INFO Request ID is 729d0011-6e5c-45a2-890e-c8bfcdcf1507\n",
      "2024-12-10 03:46:23,844 INFO status has been updated to accepted\n",
      "2024-12-10 03:46:32,291 INFO status has been updated to running\n",
      "2024-12-10 03:50:42,571 INFO status has been updated to successful\n",
      "2024-12-10 03:50:43,197 INFO Request ID is 70f353d3-c56f-4324-bb12-26133e3b5719         \n"
     ]
    },
    {
     "name": "stdout",
     "output_type": "stream",
     "text": [
      "Data saved to temp_weather_data/2024/05/Talasol Solar (Solar)_2024-05.grib.\n",
      "Requesting data for Talayuela Solar (Solar) (39.9862, -5.9815) for month 05...\n"
     ]
    },
    {
     "name": "stderr",
     "output_type": "stream",
     "text": [
      "2024-12-10 03:50:43,250 INFO status has been updated to accepted\n",
      "2024-12-10 03:50:51,790 INFO status has been updated to running\n",
      "2024-12-10 03:55:02,741 INFO status has been updated to successful\n",
      "                                                                                        \r"
     ]
    },
    {
     "name": "stdout",
     "output_type": "stream",
     "text": [
      "Data saved to temp_weather_data/2024/05/Talayuela Solar (Solar)_2024-05.grib.\n",
      "Processing month: 06...\n",
      "Requesting data for Madrid (40.4165, -3.7026) for month 06...\n"
     ]
    },
    {
     "name": "stderr",
     "output_type": "stream",
     "text": [
      "2024-12-10 03:55:04,000 INFO Request ID is 571d61b2-7f49-4e7e-9bf2-94975ab0ac64\n",
      "2024-12-10 03:55:04,091 INFO status has been updated to accepted\n",
      "2024-12-10 03:55:09,429 INFO status has been updated to running\n",
      "2024-12-10 03:59:23,874 INFO status has been updated to successful\n",
      "                                                                                        \r"
     ]
    },
    {
     "name": "stdout",
     "output_type": "stream",
     "text": [
      "Data saved to temp_weather_data/2024/06/Madrid_2024-06.grib.\n",
      "Requesting data for Barcelona (41.3851, 2.1734) for month 06...\n"
     ]
    },
    {
     "name": "stderr",
     "output_type": "stream",
     "text": [
      "2024-12-10 03:59:25,466 INFO Request ID is e36785a6-d035-469e-880c-8b2863ad072d\n",
      "2024-12-10 03:59:25,634 INFO status has been updated to accepted\n",
      "2024-12-10 03:59:30,875 INFO status has been updated to running\n",
      "2024-12-10 04:03:45,514 INFO status has been updated to successful\n",
      "2024-12-10 04:03:46,380 INFO Request ID is c49a546b-1988-4fff-b936-f054bee9f4ee         \n"
     ]
    },
    {
     "name": "stdout",
     "output_type": "stream",
     "text": [
      "Data saved to temp_weather_data/2024/06/Barcelona_2024-06.grib.\n",
      "Requesting data for Seville (37.3891, -5.9845) for month 06...\n"
     ]
    },
    {
     "name": "stderr",
     "output_type": "stream",
     "text": [
      "2024-12-10 04:03:46,449 INFO status has been updated to accepted\n",
      "2024-12-10 04:03:51,586 INFO status has been updated to running\n",
      "2024-12-10 04:06:38,637 INFO status has been updated to successful\n",
      "2024-12-10 04:06:39,412 INFO Request ID is c3633796-50be-4dbc-b691-1fccadb01290         \n"
     ]
    },
    {
     "name": "stdout",
     "output_type": "stream",
     "text": [
      "Data saved to temp_weather_data/2024/06/Seville_2024-06.grib.\n",
      "Requesting data for Valencia (39.4699, -0.3763) for month 06...\n"
     ]
    },
    {
     "name": "stderr",
     "output_type": "stream",
     "text": [
      "2024-12-10 04:06:39,575 INFO status has been updated to accepted\n",
      "2024-12-10 04:06:44,685 INFO status has been updated to running\n",
      "2024-12-10 04:10:58,444 INFO status has been updated to successful\n",
      "                                                                                        \r"
     ]
    },
    {
     "name": "stdout",
     "output_type": "stream",
     "text": [
      "Data saved to temp_weather_data/2024/06/Valencia_2024-06.grib.\n",
      "Requesting data for Castile-La Mancha (Wind) (39.8951, -3.0407) for month 06...\n"
     ]
    },
    {
     "name": "stderr",
     "output_type": "stream",
     "text": [
      "2024-12-10 04:10:59,447 INFO Request ID is fb534cfe-2454-41f7-9b23-cc1e0f49c7e1\n",
      "2024-12-10 04:10:59,587 INFO status has been updated to accepted\n",
      "2024-12-10 04:11:04,671 INFO status has been updated to running\n",
      "2024-12-10 04:15:18,553 INFO status has been updated to successful\n",
      "2024-12-10 04:15:19,441 INFO Request ID is e974a2d3-16a1-4735-a6b7-7fcb15bd5b02         \n"
     ]
    },
    {
     "name": "stdout",
     "output_type": "stream",
     "text": [
      "Data saved to temp_weather_data/2024/06/Castile-La Mancha (Wind)_2024-06.grib.\n",
      "Requesting data for Aragon (Wind) (41.6488, -0.8891) for month 06...\n"
     ]
    },
    {
     "name": "stderr",
     "output_type": "stream",
     "text": [
      "2024-12-10 04:15:19,502 INFO status has been updated to accepted\n",
      "2024-12-10 04:15:25,224 INFO status has been updated to running\n",
      "2024-12-10 04:18:12,418 INFO status has been updated to successful\n",
      "                                                                                        \r"
     ]
    },
    {
     "name": "stdout",
     "output_type": "stream",
     "text": [
      "Data saved to temp_weather_data/2024/06/Aragon (Wind)_2024-06.grib.\n",
      "Requesting data for Andalusia (Wind) (37.3886, -5.9823) for month 06...\n"
     ]
    },
    {
     "name": "stderr",
     "output_type": "stream",
     "text": [
      "2024-12-10 04:18:13,224 INFO Request ID is a8db06cc-9b62-4304-bf2f-1e401c849e04\n",
      "2024-12-10 04:18:13,311 INFO status has been updated to accepted\n",
      "2024-12-10 04:18:22,168 INFO status has been updated to running\n",
      "2024-12-10 04:21:06,054 INFO status has been updated to successful\n",
      "2024-12-10 04:21:06,757 INFO Request ID is 6df48d98-78cb-4e0a-b823-29200c4b7e67         \n"
     ]
    },
    {
     "name": "stdout",
     "output_type": "stream",
     "text": [
      "Data saved to temp_weather_data/2024/06/Andalusia (Wind)_2024-06.grib.\n",
      "Requesting data for Escatrón-Chiprana-Samper (Solar) (41.3842, -0.3743) for month 06...\n"
     ]
    },
    {
     "name": "stderr",
     "output_type": "stream",
     "text": [
      "2024-12-10 04:21:06,808 INFO status has been updated to accepted\n",
      "2024-12-10 04:21:11,903 INFO status has been updated to running\n",
      "2024-12-10 04:25:25,868 INFO status has been updated to successful\n",
      "2024-12-10 04:25:26,653 INFO Request ID is 1578a581-481a-4608-908a-e29037188869         \n"
     ]
    },
    {
     "name": "stdout",
     "output_type": "stream",
     "text": [
      "Data saved to temp_weather_data/2024/06/Escatrón-Chiprana-Samper (Solar)_2024-06.grib.\n",
      "Requesting data for Talasol Solar (Solar) (39.7291, -6.3391) for month 06...\n"
     ]
    },
    {
     "name": "stderr",
     "output_type": "stream",
     "text": [
      "2024-12-10 04:25:27,314 INFO status has been updated to accepted\n",
      "2024-12-10 04:25:32,221 INFO status has been updated to running\n",
      "2024-12-10 04:28:19,383 INFO status has been updated to successful\n",
      "                                                                                        \r"
     ]
    },
    {
     "name": "stdout",
     "output_type": "stream",
     "text": [
      "Data saved to temp_weather_data/2024/06/Talasol Solar (Solar)_2024-06.grib.\n",
      "Requesting data for Talayuela Solar (Solar) (39.9862, -5.9815) for month 06...\n"
     ]
    },
    {
     "name": "stderr",
     "output_type": "stream",
     "text": [
      "2024-12-10 04:28:20,397 INFO Request ID is bc544fb0-a8ed-4aa2-91e4-e2591367e239\n",
      "2024-12-10 04:28:20,575 INFO status has been updated to accepted\n",
      "2024-12-10 04:28:29,032 INFO status has been updated to running\n",
      "2024-12-10 04:32:39,344 INFO status has been updated to successful\n",
      "                                                                                        \r"
     ]
    },
    {
     "name": "stdout",
     "output_type": "stream",
     "text": [
      "Data saved to temp_weather_data/2024/06/Talayuela Solar (Solar)_2024-06.grib.\n",
      "Processing month directory: temp_weather_data/2024/01...\n",
      "Processing file: temp_weather_data/2024/01/Castile-La Mancha (Wind)_2024-01.grib...\n",
      "Processing file: temp_weather_data/2024/01/Andalusia (Wind)_2024-01.grib...\n",
      "Processing file: temp_weather_data/2024/01/Seville_2024-01.grib...\n",
      "Processing file: temp_weather_data/2024/01/Barcelona_2024-01.grib...\n",
      "Processing file: temp_weather_data/2024/01/Talasol Solar (Solar)_2024-01.grib...\n",
      "Processing file: temp_weather_data/2024/01/Talayuela Solar (Solar)_2024-01.grib...\n",
      "Processing file: temp_weather_data/2024/01/Valencia_2024-01.grib...\n",
      "Processing file: temp_weather_data/2024/01/Escatrón-Chiprana-Samper (Solar)_2024-01.grib...\n",
      "Processing file: temp_weather_data/2024/01/Madrid_2024-01.grib...\n",
      "Processing file: temp_weather_data/2024/01/Aragon (Wind)_2024-01.grib...\n",
      "Processing month directory: temp_weather_data/2024/02...\n",
      "Processing file: temp_weather_data/2024/02/Aragon (Wind)_2024-02.grib...\n",
      "Processing file: temp_weather_data/2024/02/Barcelona_2024-02.grib...\n",
      "Processing file: temp_weather_data/2024/02/Talasol Solar (Solar)_2024-02.grib...\n",
      "Processing file: temp_weather_data/2024/02/Valencia_2024-02.grib...\n",
      "Processing file: temp_weather_data/2024/02/Castile-La Mancha (Wind)_2024-02.grib...\n",
      "Processing file: temp_weather_data/2024/02/Seville_2024-02.grib...\n",
      "Processing file: temp_weather_data/2024/02/Talayuela Solar (Solar)_2024-02.grib...\n",
      "Processing file: temp_weather_data/2024/02/Madrid_2024-02.grib...\n",
      "Processing file: temp_weather_data/2024/02/Escatrón-Chiprana-Samper (Solar)_2024-02.grib...\n",
      "Processing file: temp_weather_data/2024/02/Andalusia (Wind)_2024-02.grib...\n",
      "Processing month directory: temp_weather_data/2024/03...\n",
      "Processing file: temp_weather_data/2024/03/Valencia_2024-03.grib...\n",
      "Processing file: temp_weather_data/2024/03/Castile-La Mancha (Wind)_2024-03.grib...\n",
      "Processing file: temp_weather_data/2024/03/Seville_2024-03.grib...\n",
      "Processing file: temp_weather_data/2024/03/Barcelona_2024-03.grib...\n",
      "Processing file: temp_weather_data/2024/03/Andalusia (Wind)_2024-03.grib...\n",
      "Processing file: temp_weather_data/2024/03/Talasol Solar (Solar)_2024-03.grib...\n",
      "Processing file: temp_weather_data/2024/03/Talayuela Solar (Solar)_2024-03.grib...\n",
      "Processing file: temp_weather_data/2024/03/Escatrón-Chiprana-Samper (Solar)_2024-03.grib...\n",
      "Processing file: temp_weather_data/2024/03/Aragon (Wind)_2024-03.grib...\n",
      "Processing file: temp_weather_data/2024/03/Madrid_2024-03.grib...\n",
      "Processing month directory: temp_weather_data/2024/04...\n",
      "Processing file: temp_weather_data/2024/04/Escatrón-Chiprana-Samper (Solar)_2024-04.grib...\n",
      "Processing file: temp_weather_data/2024/04/Talayuela Solar (Solar)_2024-04.grib...\n",
      "Processing file: temp_weather_data/2024/04/Seville_2024-04.grib...\n",
      "Processing file: temp_weather_data/2024/04/Talasol Solar (Solar)_2024-04.grib...\n",
      "Processing file: temp_weather_data/2024/04/Aragon (Wind)_2024-04.grib...\n",
      "Processing file: temp_weather_data/2024/04/Castile-La Mancha (Wind)_2024-04.grib...\n",
      "Processing file: temp_weather_data/2024/04/Madrid_2024-04.grib...\n",
      "Processing file: temp_weather_data/2024/04/Andalusia (Wind)_2024-04.grib...\n",
      "Processing file: temp_weather_data/2024/04/Valencia_2024-04.grib...\n",
      "Processing file: temp_weather_data/2024/04/Barcelona_2024-04.grib...\n",
      "Processing month directory: temp_weather_data/2024/05...\n",
      "Processing file: temp_weather_data/2024/05/Madrid_2024-05.grib...\n",
      "Processing file: temp_weather_data/2024/05/Castile-La Mancha (Wind)_2024-05.grib...\n",
      "Processing file: temp_weather_data/2024/05/Talasol Solar (Solar)_2024-05.grib...\n",
      "Processing file: temp_weather_data/2024/05/Talayuela Solar (Solar)_2024-05.grib...\n",
      "Processing file: temp_weather_data/2024/05/Andalusia (Wind)_2024-05.grib...\n",
      "Processing file: temp_weather_data/2024/05/Seville_2024-05.grib...\n",
      "Processing file: temp_weather_data/2024/05/Escatrón-Chiprana-Samper (Solar)_2024-05.grib...\n",
      "Processing file: temp_weather_data/2024/05/Aragon (Wind)_2024-05.grib...\n",
      "Processing file: temp_weather_data/2024/05/Barcelona_2024-05.grib...\n",
      "Processing file: temp_weather_data/2024/05/Valencia_2024-05.grib...\n",
      "Processing month directory: temp_weather_data/2024/06...\n",
      "Processing file: temp_weather_data/2024/06/Talasol Solar (Solar)_2024-06.grib...\n",
      "Processing file: temp_weather_data/2024/06/Talayuela Solar (Solar)_2024-06.grib...\n",
      "Processing file: temp_weather_data/2024/06/Barcelona_2024-06.grib...\n",
      "Processing file: temp_weather_data/2024/06/Seville_2024-06.grib...\n",
      "Processing file: temp_weather_data/2024/06/Valencia_2024-06.grib...\n",
      "Processing file: temp_weather_data/2024/06/Andalusia (Wind)_2024-06.grib...\n",
      "Processing file: temp_weather_data/2024/06/Madrid_2024-06.grib...\n",
      "Processing file: temp_weather_data/2024/06/Castile-La Mancha (Wind)_2024-06.grib...\n",
      "Processing file: temp_weather_data/2024/06/Aragon (Wind)_2024-06.grib...\n",
      "Processing file: temp_weather_data/2024/06/Escatrón-Chiprana-Samper (Solar)_2024-06.grib...\n",
      "Combining all data into a single DataFrame...\n",
      "Consolidated weather data saved to output_weather_data/weather_data_2024.csv.\n"
     ]
    }
   ],
   "source": [
    "import cdsapi\n",
    "import json\n",
    "import os\n",
    "import pandas as pd\n",
    "from datetime import datetime\n",
    "from calendar import monthrange\n",
    "import xarray as xr\n",
    "\n",
    "# Load the configuration\n",
    "with open(\"config.json\", \"r\") as config_file:\n",
    "    config = json.load(config_file)\n",
    "\n",
    "locations = config[\"locations\"]\n",
    "variables = config[\"variables\"]\n",
    "times = config[\"time\"]  # Get the timeslots from the configuration file\n",
    "\n",
    "# Define the CDS API client\n",
    "c = cdsapi.Client()\n",
    "\n",
    "# Base directories for temporary and output files\n",
    "base_temp_dir = \"temp_weather_data\"\n",
    "base_output_dir = \"output_weather_data\"\n",
    "os.makedirs(base_temp_dir, exist_ok=True)\n",
    "os.makedirs(base_output_dir, exist_ok=True)\n",
    "\n",
    "# Generate data for each month\n",
    "for month in range(1, 7):  # Loop through months 1 to 12\n",
    "    month_str = f\"{month:02}\"  # Ensure two-digit month format\n",
    "\n",
    "    # Determine the number of days in the current month\n",
    "    num_days = monthrange(2024, month)[1]\n",
    "    days = [f\"{day:02}\" for day in range(1, num_days + 1)]\n",
    "\n",
    "    print(f\"Processing month: {month_str}...\")\n",
    "\n",
    "    # Create a directory for this month\n",
    "    temp_dir = os.path.join(base_temp_dir, \"2024\", month_str)\n",
    "    os.makedirs(temp_dir, exist_ok=True)\n",
    "\n",
    "    # Process each location\n",
    "    for location in locations:\n",
    "        lat, lon, name = location[\"latitude\"], location[\"longitude\"], location[\"name\"]\n",
    "        file_name = os.path.join(temp_dir, f\"{name}_2024-{month_str}.grib\")\n",
    "        \n",
    "        if not os.path.exists(file_name):  # Avoid re-downloading if file exists\n",
    "            print(f\"Requesting data for {name} ({lat}, {lon}) for month {month_str}...\")\n",
    "            request = {\n",
    "                \"variable\": variables,\n",
    "                \"year\": \"2024\",\n",
    "                \"month\": [month_str],\n",
    "                \"day\": days,  # Dynamically calculated days\n",
    "                \"time\": times,  # Time slots from configuration\n",
    "                \"format\": \"grib\",\n",
    "                \"area\": [lat + 0.1, lon - 0.1, lat - 0.1, lon + 0.1],\n",
    "            }\n",
    "            try:\n",
    "                c.retrieve(\"reanalysis-era5-land\", request, file_name)\n",
    "                print(f\"Data saved to {file_name}.\")\n",
    "            except Exception as e:\n",
    "                print(f\"Error retrieving data for {name}, {month_str}: {e}\")\n",
    "        else:\n",
    "            print(f\"File {file_name} already exists. Skipping download.\")\n",
    "\n",
    "# Consolidate all downloaded data\n",
    "all_data = []\n",
    "\n",
    "# Process each month directory\n",
    "year_dir = os.path.join(base_temp_dir, \"2024\")\n",
    "for month_dir in sorted(os.listdir(year_dir)):\n",
    "    month_path = os.path.join(year_dir, month_dir)\n",
    "    if os.path.isdir(month_path):\n",
    "        print(f\"Processing month directory: {month_path}...\")\n",
    "        for file in os.listdir(month_path):\n",
    "            if file.endswith(\".grib\"):\n",
    "                file_path = os.path.join(month_path, file)\n",
    "                print(f\"Processing file: {file_path}...\")\n",
    "                try:\n",
    "                    ds = xr.open_dataset(file_path, engine=\"cfgrib\")\n",
    "                    df = ds.to_dataframe().reset_index()\n",
    "\n",
    "                    # Extract location name from file\n",
    "                    location_name = file.split(\"_2024-\")[0]\n",
    "\n",
    "                    # Add metadata\n",
    "                    df[\"location_name\"] = location_name\n",
    "\n",
    "                    all_data.append(df)\n",
    "                except Exception as e:\n",
    "                    print(f\"Error processing {file_path}: {e}\")\n",
    "\n",
    "# Combine all data into a single DataFrame\n",
    "if all_data:\n",
    "    print(\"Combining all data into a single DataFrame...\")\n",
    "    combined_df = pd.concat(all_data, ignore_index=True)\n",
    "\n",
    "    # Save combined data to CSV\n",
    "    output_csv_file = os.path.join(base_output_dir, \"weather_data_2024.csv\")\n",
    "    combined_df.to_csv(output_csv_file, index=False)\n",
    "    print(f\"Consolidated weather data saved to {output_csv_file}.\")\n",
    "else:\n",
    "    print(\"No data to consolidate.\")\n"
   ]
  },
  {
   "cell_type": "code",
   "execution_count": 29,
   "metadata": {},
   "outputs": [
    {
     "name": "stdout",
     "output_type": "stream",
     "text": [
      "Loading output_weather_data/weather_data_2024.csv...\n",
      "Processing data...\n",
      "Saving data by location to output_weather_data/weather_data_by_location_2024.json...\n",
      "Consolidating data by time...\n",
      "Saving consolidated data to output_weather_data/consolidated_weather_data_by_time_2024.csv...\n",
      "Processing complete.\n"
     ]
    }
   ],
   "source": [
    "import os\n",
    "import pandas as pd\n",
    "import json\n",
    "\n",
    "# Configuration\n",
    "input_csv = \"output_weather_data/weather_data_2024.csv\"\n",
    "output_json = \"output_weather_data/weather_data_by_location_2024.json\"\n",
    "output_csv = \"output_weather_data/consolidated_weather_data_by_time_2024.csv\"\n",
    "\n",
    "# Load the CSV file\n",
    "print(f\"Loading {input_csv}...\")\n",
    "df = pd.read_csv(input_csv)\n",
    "\n",
    "# Convert time columns to datetime for easier processing\n",
    "df[\"valid_time\"] = pd.to_datetime(df[\"valid_time\"])\n",
    "\n",
    "# Initialize the main dictionary\n",
    "weather_data = {}\n",
    "\n",
    "# Group the data by location and valid_time\n",
    "print(\"Processing data...\")\n",
    "grouped = df.groupby([\"location_name\", \"valid_time\"])\n",
    "\n",
    "for (location, valid_time), group in grouped:\n",
    "    # Initialize the location's data if not already present\n",
    "    if location not in weather_data:\n",
    "        weather_data[location] = []\n",
    "\n",
    "    # Aggregate data for the time slot\n",
    "    aggregated_data = {\n",
    "        \"valid_time\": valid_time.isoformat(),\n",
    "        \"latitude\": group[\"latitude\"].mean(skipna=True),\n",
    "        \"longitude\": group[\"longitude\"].mean(skipna=True),\n",
    "        \"temperature\": group[\"t2m\"].mean(skipna=True),\n",
    "        \"solar_radiation\": group[\"ssr\"].mean(skipna=True),\n",
    "        \"wind_u_component\": group[\"u10\"].mean(skipna=True),\n",
    "        \"wind_v_component\": group[\"v10\"].mean(skipna=True),\n",
    "        \"surface_pressure\": group[\"sp\"].mean(skipna=True),\n",
    "        \"total_precipitation\": group[\"tp\"].mean(skipna=True),\n",
    "    }\n",
    "    weather_data[location].append(aggregated_data)\n",
    "\n",
    "# Save the dictionary to a JSON file\n",
    "print(f\"Saving data by location to {output_json}...\")\n",
    "with open(output_json, \"w\") as json_file:\n",
    "    json.dump(weather_data, json_file, indent=4)\n",
    "\n",
    "# Consolidate data by valid_time\n",
    "print(\"Consolidating data by time...\")\n",
    "consolidated_data = {}\n",
    "\n",
    "# Process each location\n",
    "for location, records in weather_data.items():\n",
    "    for record in records:\n",
    "        valid_time = record[\"valid_time\"]\n",
    "\n",
    "        # Ensure the valid_time exists in the consolidated data\n",
    "        if valid_time not in consolidated_data:\n",
    "            consolidated_data[valid_time] = {}\n",
    "\n",
    "        # Flatten location-specific data into consolidated_data\n",
    "        consolidated_data[valid_time].update({\n",
    "            f\"{location}_latitude\": record[\"latitude\"],\n",
    "            f\"{location}_longitude\": record[\"longitude\"],\n",
    "            f\"{location}_temperature\": record[\"temperature\"],\n",
    "            f\"{location}_solar_radiation\": record[\"solar_radiation\"],\n",
    "            f\"{location}_wind_u_component\": record[\"wind_u_component\"],\n",
    "            f\"{location}_wind_v_component\": record[\"wind_v_component\"],\n",
    "            f\"{location}_surface_pressure\": record[\"surface_pressure\"],\n",
    "            f\"{location}_total_precipitation\": record[\"total_precipitation\"],\n",
    "        })\n",
    "\n",
    "# Convert the consolidated dictionary into a DataFrame\n",
    "df_consolidated = pd.DataFrame.from_dict(consolidated_data, orient=\"index\").reset_index()\n",
    "\n",
    "# Rename the index column to \"valid_time\"\n",
    "df_consolidated.rename(columns={\"index\": \"valid_time\"}, inplace=True)\n",
    "\n",
    "# Save the DataFrame to a CSV file\n",
    "print(f\"Saving consolidated data to {output_csv}...\")\n",
    "df_consolidated.to_csv(output_csv, index=False)\n",
    "\n",
    "print(\"Processing complete.\")\n"
   ]
  },
  {
   "cell_type": "markdown",
   "metadata": {},
   "source": [
    "### The current process is above"
   ]
  },
  {
   "cell_type": "code",
   "execution_count": null,
   "metadata": {},
   "outputs": [
    {
     "name": "stdout",
     "output_type": "stream",
     "text": [
      "Loading data from output_weather_data/weather_data_2023.csv...\n",
      "Processing data...\n",
      "Saving processed data to temp/2023_weather_data_by_location.json...\n"
     ]
    },
    {
     "ename": "FileNotFoundError",
     "evalue": "[Errno 2] No such file or directory: 'temp/2023_weather_data_by_location.json'",
     "output_type": "error",
     "traceback": [
      "\u001b[0;31m---------------------------------------------------------------------------\u001b[0m",
      "\u001b[0;31mFileNotFoundError\u001b[0m                         Traceback (most recent call last)",
      "Cell \u001b[0;32mIn[14], line 46\u001b[0m\n\u001b[1;32m     44\u001b[0m \u001b[38;5;66;03m# Save the processed data to a JSON file\u001b[39;00m\n\u001b[1;32m     45\u001b[0m \u001b[38;5;28mprint\u001b[39m(\u001b[38;5;124mf\u001b[39m\u001b[38;5;124m\"\u001b[39m\u001b[38;5;124mSaving processed data to \u001b[39m\u001b[38;5;132;01m{\u001b[39;00moutput_json_file\u001b[38;5;132;01m}\u001b[39;00m\u001b[38;5;124m...\u001b[39m\u001b[38;5;124m\"\u001b[39m)\n\u001b[0;32m---> 46\u001b[0m \u001b[38;5;28;01mwith\u001b[39;00m \u001b[38;5;28mopen\u001b[39m(output_json_file, \u001b[38;5;124m\"\u001b[39m\u001b[38;5;124mw\u001b[39m\u001b[38;5;124m\"\u001b[39m) \u001b[38;5;28;01mas\u001b[39;00m json_file:\n\u001b[1;32m     47\u001b[0m     json\u001b[38;5;241m.\u001b[39mdump(weather_data, json_file, indent\u001b[38;5;241m=\u001b[39m\u001b[38;5;241m4\u001b[39m)\n\u001b[1;32m     49\u001b[0m \u001b[38;5;66;03m# Consolidate the data by `valid_time` for the CSV output\u001b[39;00m\n",
      "File \u001b[0;32m~/anaconda3/envs/deeplearn/lib/python3.11/site-packages/IPython/core/interactiveshell.py:324\u001b[0m, in \u001b[0;36m_modified_open\u001b[0;34m(file, *args, **kwargs)\u001b[0m\n\u001b[1;32m    317\u001b[0m \u001b[38;5;28;01mif\u001b[39;00m file \u001b[38;5;129;01min\u001b[39;00m {\u001b[38;5;241m0\u001b[39m, \u001b[38;5;241m1\u001b[39m, \u001b[38;5;241m2\u001b[39m}:\n\u001b[1;32m    318\u001b[0m     \u001b[38;5;28;01mraise\u001b[39;00m \u001b[38;5;167;01mValueError\u001b[39;00m(\n\u001b[1;32m    319\u001b[0m         \u001b[38;5;124mf\u001b[39m\u001b[38;5;124m\"\u001b[39m\u001b[38;5;124mIPython won\u001b[39m\u001b[38;5;124m'\u001b[39m\u001b[38;5;124mt let you open fd=\u001b[39m\u001b[38;5;132;01m{\u001b[39;00mfile\u001b[38;5;132;01m}\u001b[39;00m\u001b[38;5;124m by default \u001b[39m\u001b[38;5;124m\"\u001b[39m\n\u001b[1;32m    320\u001b[0m         \u001b[38;5;124m\"\u001b[39m\u001b[38;5;124mas it is likely to crash IPython. If you know what you are doing, \u001b[39m\u001b[38;5;124m\"\u001b[39m\n\u001b[1;32m    321\u001b[0m         \u001b[38;5;124m\"\u001b[39m\u001b[38;5;124myou can use builtins\u001b[39m\u001b[38;5;124m'\u001b[39m\u001b[38;5;124m open.\u001b[39m\u001b[38;5;124m\"\u001b[39m\n\u001b[1;32m    322\u001b[0m     )\n\u001b[0;32m--> 324\u001b[0m \u001b[38;5;28;01mreturn\u001b[39;00m io_open(file, \u001b[38;5;241m*\u001b[39margs, \u001b[38;5;241m*\u001b[39m\u001b[38;5;241m*\u001b[39mkwargs)\n",
      "\u001b[0;31mFileNotFoundError\u001b[0m: [Errno 2] No such file or directory: 'temp/2023_weather_data_by_location.json'"
     ]
    }
   ],
   "source": [
    "import os\n",
    "import pandas as pd\n",
    "import json\n",
    "\n",
    "# Configuration\n",
    "year = 2023\n",
    "base_dir = \"temp\"\n",
    "\n",
    "# Initialize the main dictionary\n",
    "weather_data = {}\n",
    "\n",
    "# Iterate through all months\n",
    "for month in range(1, 13):\n",
    "    month_dir = os.path.join(base_dir, str(year), f\"{month:02d}\")\n",
    "    month_file = os.path.join(month_dir, \"weather_data.csv\")\n",
    "    \n",
    "    # Check if the month's file exists\n",
    "    if not os.path.exists(month_file):\n",
    "        print(f\"Skipping {month_file}: File not found.\")\n",
    "        continue\n",
    "\n",
    "    # Load the CSV file for the month\n",
    "    print(f\"Processing {month_file}...\")\n",
    "    df = pd.read_csv(month_file)\n",
    "\n",
    "    # Convert time columns to datetime for easier processing\n",
    "    df[\"valid_time\"] = pd.to_datetime(df[\"valid_time\"])\n",
    "\n",
    "    # Group the data by location\n",
    "    for location, group in df.groupby(\"location_name\"):\n",
    "        # Initialize the location's data if not already present\n",
    "        if location not in weather_data:\n",
    "            weather_data[location] = []\n",
    "\n",
    "        # Drop duplicate time slots by keeping the first non-NaN row for each `valid_time`\n",
    "        group = group.sort_values(\"valid_time\").dropna(subset=[\"t2m\", \"ssr\", \"u10\", \"v10\", \"sp\", \"tp\"], how='all')\n",
    "        group = group.groupby(\"valid_time\").first().reset_index()\n",
    "\n",
    "        # Process each row in the location's data\n",
    "        for _, row in group.iterrows():\n",
    "            # Create a dictionary for the current time slot\n",
    "            time_slot_data = {\n",
    "                \"valid_time\": row[\"valid_time\"].isoformat(),\n",
    "                \"latitude\": row[\"latitude\"],\n",
    "                \"longitude\": row[\"longitude\"],\n",
    "                \"temperature\": row[\"t2m\"],\n",
    "                \"solar_radiation\": row[\"ssr\"],\n",
    "                \"wind_u_component\": row[\"u10\"],\n",
    "                \"wind_v_component\": row[\"v10\"],\n",
    "                \"surface_pressure\": row[\"sp\"],\n",
    "                \"total_precipitation\": row[\"tp\"],\n",
    "            }\n",
    "            weather_data[location].append(time_slot_data)\n",
    "\n",
    "# Save the dictionary to a JSON file\n",
    "output_file = os.path.join(base_dir, f\"{year}_weather_data_by_location.json\")\n",
    "with open(output_file, \"w\") as json_file:\n",
    "    json.dump(weather_data, json_file, indent=4)\n",
    "\n",
    "print(f\"Weather data organized by location saved to {output_file}.\")\n"
   ]
  },
  {
   "cell_type": "code",
   "execution_count": null,
   "metadata": {},
   "outputs": [
    {
     "name": "stdout",
     "output_type": "stream",
     "text": [
      "Consolidated weather data by time saved to consolidated_weather_data_by_time.csv.\n"
     ]
    }
   ],
   "source": [
    "import pandas as pd\n",
    "import json\n",
    "\n",
    "# Load the JSON file\n",
    "input_file = \"weather_data_by_location.json\"\n",
    "output_csv_file = \"consolidated_weather_data_by_time.csv\"\n",
    "\n",
    "with open(input_file, \"r\") as json_file:\n",
    "    weather_data = json.load(json_file)\n",
    "\n",
    "# Create a dictionary to hold data for the DataFrame\n",
    "consolidated_data = {}\n",
    "\n",
    "# Process each location\n",
    "for location, records in weather_data.items():\n",
    "    for record in records:\n",
    "        valid_time = record[\"valid_time\"]\n",
    "\n",
    "        # Ensure the valid_time exists in the consolidated data\n",
    "        if valid_time not in consolidated_data:\n",
    "            consolidated_data[valid_time] = {}\n",
    "\n",
    "        # Flatten location-specific data into consolidated_data\n",
    "        consolidated_data[valid_time].update({\n",
    "            f\"{location}_latitude\": record[\"latitude\"],\n",
    "            f\"{location}_longitude\": record[\"longitude\"],\n",
    "            f\"{location}_temperature\": record[\"temperature\"],\n",
    "            f\"{location}_solar_radiation\": record[\"solar_radiation\"],\n",
    "            f\"{location}_wind_u_component\": record[\"wind_u_component\"],\n",
    "            f\"{location}_wind_v_component\": record[\"wind_v_component\"],\n",
    "            f\"{location}_surface_pressure\": record[\"surface_pressure\"],\n",
    "            f\"{location}_total_precipitation\": record[\"total_precipitation\"],\n",
    "        })\n",
    "\n",
    "# Convert the consolidated dictionary into a DataFrame\n",
    "df = pd.DataFrame.from_dict(consolidated_data, orient=\"index\").reset_index()\n",
    "\n",
    "# Rename the index column to \"valid_time\"\n",
    "df.rename(columns={\"index\": \"valid_time\"}, inplace=True)\n",
    "\n",
    "# Save the DataFrame to a CSV file\n",
    "df.to_csv(output_csv_file, index=False)\n",
    "\n",
    "print(f\"Consolidated weather data by time saved to {output_csv_file}.\")\n"
   ]
  },
  {
   "cell_type": "markdown",
   "metadata": {},
   "source": [
    "### validation shit I think"
   ]
  },
  {
   "cell_type": "code",
   "execution_count": 16,
   "metadata": {},
   "outputs": [
    {
     "name": "stdout",
     "output_type": "stream",
     "text": [
      "Loading output_weather_data/weather_data_2023.csv...\n",
      "Processing data...\n",
      "Saving data by location to output_weather_data/weather_data_by_location_2023.json...\n",
      "Consolidating data by time...\n",
      "Saving consolidated data to output_weather_data/consolidated_weather_data_by_time_2023.csv...\n",
      "Processing complete.\n"
     ]
    }
   ],
   "source": [
    "import os\n",
    "import pandas as pd\n",
    "import json\n",
    "\n",
    "# Configuration\n",
    "input_csv = \"output_weather_data/weather_data_2023.csv\"\n",
    "output_json = \"output_weather_data/weather_data_by_location_2023.json\"\n",
    "output_csv = \"output_weather_data/consolidated_weather_data_by_time_2023.csv\"\n",
    "\n",
    "# Load the CSV file\n",
    "print(f\"Loading {input_csv}...\")\n",
    "df = pd.read_csv(input_csv)\n",
    "\n",
    "# Convert time columns to datetime for easier processing\n",
    "df[\"valid_time\"] = pd.to_datetime(df[\"valid_time\"])\n",
    "\n",
    "# Initialize the main dictionary\n",
    "weather_data = {}\n",
    "\n",
    "# Group the data by location and valid_time\n",
    "print(\"Processing data...\")\n",
    "grouped = df.groupby([\"location_name\", \"valid_time\"])\n",
    "\n",
    "for (location, valid_time), group in grouped:\n",
    "    # Initialize the location's data if not already present\n",
    "    if location not in weather_data:\n",
    "        weather_data[location] = []\n",
    "\n",
    "    # Aggregate data for the time slot\n",
    "    aggregated_data = {\n",
    "        \"valid_time\": valid_time.isoformat(),\n",
    "        \"latitude\": group[\"latitude\"].mean(skipna=True),\n",
    "        \"longitude\": group[\"longitude\"].mean(skipna=True),\n",
    "        \"temperature\": group[\"t2m\"].mean(skipna=True),\n",
    "        \"solar_radiation\": group[\"ssr\"].mean(skipna=True),\n",
    "        \"wind_u_component\": group[\"u10\"].mean(skipna=True),\n",
    "        \"wind_v_component\": group[\"v10\"].mean(skipna=True),\n",
    "        \"surface_pressure\": group[\"sp\"].mean(skipna=True),\n",
    "        \"total_precipitation\": group[\"tp\"].mean(skipna=True),\n",
    "    }\n",
    "    weather_data[location].append(aggregated_data)\n",
    "\n",
    "# Save the dictionary to a JSON file\n",
    "print(f\"Saving data by location to {output_json}...\")\n",
    "with open(output_json, \"w\") as json_file:\n",
    "    json.dump(weather_data, json_file, indent=4)\n",
    "\n",
    "# Consolidate data by valid_time\n",
    "print(\"Consolidating data by time...\")\n",
    "consolidated_data = {}\n",
    "\n",
    "# Process each location\n",
    "for location, records in weather_data.items():\n",
    "    for record in records:\n",
    "        valid_time = record[\"valid_time\"]\n",
    "\n",
    "        # Ensure the valid_time exists in the consolidated data\n",
    "        if valid_time not in consolidated_data:\n",
    "            consolidated_data[valid_time] = {}\n",
    "\n",
    "        # Flatten location-specific data into consolidated_data\n",
    "        consolidated_data[valid_time].update({\n",
    "            f\"{location}_latitude\": record[\"latitude\"],\n",
    "            f\"{location}_longitude\": record[\"longitude\"],\n",
    "            f\"{location}_temperature\": record[\"temperature\"],\n",
    "            f\"{location}_solar_radiation\": record[\"solar_radiation\"],\n",
    "            f\"{location}_wind_u_component\": record[\"wind_u_component\"],\n",
    "            f\"{location}_wind_v_component\": record[\"wind_v_component\"],\n",
    "            f\"{location}_surface_pressure\": record[\"surface_pressure\"],\n",
    "            f\"{location}_total_precipitation\": record[\"total_precipitation\"],\n",
    "        })\n",
    "\n",
    "# Convert the consolidated dictionary into a DataFrame\n",
    "df_consolidated = pd.DataFrame.from_dict(consolidated_data, orient=\"index\").reset_index()\n",
    "\n",
    "# Rename the index column to \"valid_time\"\n",
    "df_consolidated.rename(columns={\"index\": \"valid_time\"}, inplace=True)\n",
    "\n",
    "# Save the DataFrame to a CSV file\n",
    "print(f\"Saving consolidated data to {output_csv}...\")\n",
    "df_consolidated.to_csv(output_csv, index=False)\n",
    "\n",
    "print(\"Processing complete.\")\n"
   ]
  }
 ],
 "metadata": {
  "kernelspec": {
   "display_name": "deeplearn",
   "language": "python",
   "name": "python3"
  },
  "language_info": {
   "codemirror_mode": {
    "name": "ipython",
    "version": 3
   },
   "file_extension": ".py",
   "mimetype": "text/x-python",
   "name": "python",
   "nbconvert_exporter": "python",
   "pygments_lexer": "ipython3",
   "version": "3.11.10"
  }
 },
 "nbformat": 4,
 "nbformat_minor": 2
}
