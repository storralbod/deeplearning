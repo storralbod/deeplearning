{
 "cells": [
  {
   "cell_type": "markdown",
   "metadata": {},
   "source": [
    "### This one works"
   ]
  },
  {
   "cell_type": "code",
   "execution_count": 17,
   "metadata": {},
   "outputs": [
    {
     "name": "stderr",
     "output_type": "stream",
     "text": [
      "2024-12-09 00:23:23,660 INFO [2024-09-28T00:00:00] **Welcome to the New Climate Data Store (CDS)!** This new system is in its early days of full operations and still undergoing enhancements and fine tuning. Some disruptions are to be expected. Your \n",
      "[feedback](https://jira.ecmwf.int/plugins/servlet/desk/portal/1/create/202) is key to improve the user experience on the new CDS for the benefit of everyone. Thank you.\n",
      "2024-12-09 00:23:23,661 INFO [2024-09-26T00:00:00] Watch our [Forum](https://forum.ecmwf.int/) for Announcements, news and other discussed topics.\n",
      "2024-12-09 00:23:23,661 INFO [2024-09-16T00:00:00] Remember that you need to have an ECMWF account to use the new CDS. **Your old CDS credentials will not work in new CDS!**\n",
      "2024-12-09 00:23:23,663 WARNING [2024-06-16T00:00:00] CDS API syntax is changed and some keys or parameter names may have also changed. To avoid requests failing, please use the \"Show API request code\" tool on the dataset Download Form to check you are using the correct syntax for your API request.\n"
     ]
    },
    {
     "name": "stdout",
     "output_type": "stream",
     "text": [
      "Processing month: 01...\n",
      "File temp_weather_data/2023/01/Madrid_2023-01.grib already exists. Skipping download.\n",
      "File temp_weather_data/2023/01/Barcelona_2023-01.grib already exists. Skipping download.\n",
      "File temp_weather_data/2023/01/Seville_2023-01.grib already exists. Skipping download.\n",
      "File temp_weather_data/2023/01/Valencia_2023-01.grib already exists. Skipping download.\n",
      "File temp_weather_data/2023/01/Castile-La Mancha (Wind)_2023-01.grib already exists. Skipping download.\n",
      "File temp_weather_data/2023/01/Aragon (Wind)_2023-01.grib already exists. Skipping download.\n",
      "File temp_weather_data/2023/01/Andalusia (Wind)_2023-01.grib already exists. Skipping download.\n",
      "File temp_weather_data/2023/01/Escatrón-Chiprana-Samper (Solar)_2023-01.grib already exists. Skipping download.\n",
      "File temp_weather_data/2023/01/Talasol Solar (Solar)_2023-01.grib already exists. Skipping download.\n",
      "File temp_weather_data/2023/01/Talayuela Solar (Solar)_2023-01.grib already exists. Skipping download.\n",
      "Processing month: 02...\n",
      "Requesting data for Madrid (40.4165, -3.7026) for month 02...\n"
     ]
    },
    {
     "name": "stderr",
     "output_type": "stream",
     "text": [
      "2024-12-09 00:23:23,956 INFO Request ID is 95f417e8-ec7b-48ed-8c28-653a4d2eb5a7\n",
      "2024-12-09 00:23:24,042 INFO status has been updated to accepted\n",
      "2024-12-09 00:23:29,166 INFO status has been updated to running\n",
      "2024-12-09 00:23:32,627 INFO status has been updated to successful\n",
      "                                                                                        \r"
     ]
    },
    {
     "name": "stdout",
     "output_type": "stream",
     "text": [
      "Data saved to temp_weather_data/2023/02/Madrid_2023-02.grib.\n",
      "Requesting data for Barcelona (41.3851, 2.1734) for month 02...\n"
     ]
    },
    {
     "name": "stderr",
     "output_type": "stream",
     "text": [
      "2024-12-09 00:23:33,582 INFO Request ID is 979a3b69-24c6-428a-b60a-2a781f85ca14\n",
      "2024-12-09 00:23:33,769 INFO status has been updated to accepted\n",
      "2024-12-09 00:23:38,852 INFO status has been updated to running\n",
      "2024-12-09 00:27:53,385 INFO status has been updated to successful\n",
      "2024-12-09 00:27:54,051 INFO Request ID is 4830b0fc-b47c-4b93-813c-43076170ffcc         \n"
     ]
    },
    {
     "name": "stdout",
     "output_type": "stream",
     "text": [
      "Data saved to temp_weather_data/2023/02/Barcelona_2023-02.grib.\n",
      "Requesting data for Seville (37.3891, -5.9845) for month 02...\n"
     ]
    },
    {
     "name": "stderr",
     "output_type": "stream",
     "text": [
      "2024-12-09 00:27:54,666 INFO status has been updated to accepted\n",
      "2024-12-09 00:27:59,604 INFO status has been updated to running\n",
      "2024-12-09 00:32:13,574 INFO status has been updated to successful\n",
      "                                                                                        \r"
     ]
    },
    {
     "name": "stdout",
     "output_type": "stream",
     "text": [
      "Data saved to temp_weather_data/2023/02/Seville_2023-02.grib.\n",
      "Requesting data for Valencia (39.4699, -0.3763) for month 02...\n"
     ]
    },
    {
     "name": "stderr",
     "output_type": "stream",
     "text": [
      "2024-12-09 00:32:14,811 INFO Request ID is fbc04542-0cc9-40f6-ac4b-c53002e270f1\n",
      "2024-12-09 00:32:14,885 INFO status has been updated to accepted\n",
      "2024-12-09 00:32:25,075 INFO status has been updated to running\n",
      "2024-12-09 00:36:37,674 INFO status has been updated to successful\n",
      "                                                                                        \r"
     ]
    },
    {
     "name": "stdout",
     "output_type": "stream",
     "text": [
      "Data saved to temp_weather_data/2023/02/Valencia_2023-02.grib.\n",
      "Requesting data for Castile-La Mancha (Wind) (39.8951, -3.0407) for month 02...\n"
     ]
    },
    {
     "name": "stderr",
     "output_type": "stream",
     "text": [
      "2024-12-09 00:36:40,704 INFO Request ID is c357bcbc-4636-4ec5-aefd-a177c43fc240\n",
      "2024-12-09 00:36:40,785 INFO status has been updated to accepted\n",
      "2024-12-09 00:36:45,690 INFO status has been updated to running\n",
      "2024-12-09 00:40:59,959 INFO status has been updated to successful\n",
      "                                                                                        \r"
     ]
    },
    {
     "name": "stdout",
     "output_type": "stream",
     "text": [
      "Data saved to temp_weather_data/2023/02/Castile-La Mancha (Wind)_2023-02.grib.\n",
      "Requesting data for Aragon (Wind) (41.6488, -0.8891) for month 02...\n"
     ]
    },
    {
     "name": "stderr",
     "output_type": "stream",
     "text": [
      "2024-12-09 00:41:03,137 INFO Request ID is 0dfde967-aff8-4752-94e3-9887ead19ec5\n",
      "2024-12-09 00:41:03,462 INFO status has been updated to accepted\n",
      "2024-12-09 00:41:12,396 INFO status has been updated to running\n",
      "2024-12-09 00:45:23,417 INFO status has been updated to successful\n",
      "2024-12-09 00:45:24,148 INFO Request ID is 5b2181a2-9b9a-4a4f-aab2-8dbc8008c79c        \n"
     ]
    },
    {
     "name": "stdout",
     "output_type": "stream",
     "text": [
      "Data saved to temp_weather_data/2023/02/Aragon (Wind)_2023-02.grib.\n",
      "Requesting data for Andalusia (Wind) (37.3886, -5.9823) for month 02...\n"
     ]
    },
    {
     "name": "stderr",
     "output_type": "stream",
     "text": [
      "2024-12-09 00:45:24,216 INFO status has been updated to accepted\n",
      "2024-12-09 00:45:29,229 INFO status has been updated to running\n",
      "2024-12-09 00:49:44,036 INFO status has been updated to successful\n",
      "                                                                                        \r"
     ]
    },
    {
     "name": "stdout",
     "output_type": "stream",
     "text": [
      "Data saved to temp_weather_data/2023/02/Andalusia (Wind)_2023-02.grib.\n",
      "Requesting data for Escatrón-Chiprana-Samper (Solar) (41.3842, -0.3743) for month 02...\n"
     ]
    },
    {
     "name": "stderr",
     "output_type": "stream",
     "text": [
      "2024-12-09 00:49:47,046 INFO Request ID is 1d4fbb53-b3e0-4ff7-92ee-91a9471f5d52\n",
      "2024-12-09 00:49:47,113 INFO status has been updated to accepted\n",
      "2024-12-09 00:49:54,118 INFO status has been updated to running\n",
      "2024-12-09 00:54:08,324 INFO status has been updated to successful\n",
      "                                                                                        \r"
     ]
    },
    {
     "name": "stdout",
     "output_type": "stream",
     "text": [
      "Data saved to temp_weather_data/2023/02/Escatrón-Chiprana-Samper (Solar)_2023-02.grib.\n",
      "Requesting data for Talasol Solar (Solar) (39.7291, -6.3391) for month 02...\n"
     ]
    },
    {
     "name": "stderr",
     "output_type": "stream",
     "text": [
      "2024-12-09 00:54:11,446 INFO Request ID is 885b53d6-524d-49d3-8af1-8bbf2055af14\n",
      "2024-12-09 00:54:11,550 INFO status has been updated to accepted\n",
      "2024-12-09 00:54:19,887 INFO status has been updated to running\n",
      "2024-12-09 00:58:30,550 INFO status has been updated to successful\n",
      "                                                                                        \r"
     ]
    },
    {
     "name": "stdout",
     "output_type": "stream",
     "text": [
      "Data saved to temp_weather_data/2023/02/Talasol Solar (Solar)_2023-02.grib.\n",
      "Requesting data for Talayuela Solar (Solar) (39.9862, -5.9815) for month 02...\n"
     ]
    },
    {
     "name": "stderr",
     "output_type": "stream",
     "text": [
      "2024-12-09 00:58:31,436 INFO Request ID is fc9c0d5e-4fd9-452d-a32d-326fea0ceb3e\n",
      "2024-12-09 00:58:32,143 INFO status has been updated to accepted\n",
      "2024-12-09 00:58:40,470 INFO status has been updated to running\n",
      "2024-12-09 01:02:54,247 INFO status has been updated to successful\n",
      "                                                                                        \r"
     ]
    },
    {
     "name": "stdout",
     "output_type": "stream",
     "text": [
      "Data saved to temp_weather_data/2023/02/Talayuela Solar (Solar)_2023-02.grib.\n",
      "Processing month: 03...\n",
      "Requesting data for Madrid (40.4165, -3.7026) for month 03...\n"
     ]
    },
    {
     "name": "stderr",
     "output_type": "stream",
     "text": [
      "2024-12-09 01:02:59,526 INFO Request ID is b1ff98a0-9394-4343-a209-e35144fb8428\n",
      "2024-12-09 01:02:59,643 INFO status has been updated to accepted\n",
      "2024-12-09 01:03:11,306 INFO status has been updated to running\n",
      "2024-12-09 01:09:27,626 INFO status has been updated to successful\n",
      "2024-12-09 01:09:28,425 INFO Request ID is 06602011-ea77-4dda-96da-53354535f3e7         \n"
     ]
    },
    {
     "name": "stdout",
     "output_type": "stream",
     "text": [
      "Data saved to temp_weather_data/2023/03/Madrid_2023-03.grib.\n",
      "Requesting data for Barcelona (41.3851, 2.1734) for month 03...\n"
     ]
    },
    {
     "name": "stderr",
     "output_type": "stream",
     "text": [
      "2024-12-09 01:09:28,541 INFO status has been updated to accepted\n",
      "2024-12-09 01:09:33,463 INFO status has been updated to running\n",
      "2024-12-09 01:15:48,761 INFO status has been updated to successful\n",
      "                                                                                        \r"
     ]
    },
    {
     "name": "stdout",
     "output_type": "stream",
     "text": [
      "Data saved to temp_weather_data/2023/03/Barcelona_2023-03.grib.\n",
      "Requesting data for Seville (37.3891, -5.9845) for month 03...\n"
     ]
    },
    {
     "name": "stderr",
     "output_type": "stream",
     "text": [
      "2024-12-09 01:15:50,246 INFO Request ID is f4ef9267-cc20-4a55-a96d-36934931969a\n",
      "2024-12-09 01:15:50,310 INFO status has been updated to accepted\n",
      "2024-12-09 01:15:58,749 INFO status has been updated to running\n",
      "2024-12-09 01:22:12,722 INFO status has been updated to successful\n",
      "                                                                                        \r"
     ]
    },
    {
     "name": "stdout",
     "output_type": "stream",
     "text": [
      "Data saved to temp_weather_data/2023/03/Seville_2023-03.grib.\n",
      "Requesting data for Valencia (39.4699, -0.3763) for month 03...\n"
     ]
    },
    {
     "name": "stderr",
     "output_type": "stream",
     "text": [
      "2024-12-09 01:22:15,779 INFO Request ID is 9c6b1f7b-9e4b-447b-87d4-2e670229742e\n",
      "2024-12-09 01:22:16,376 INFO status has been updated to accepted\n",
      "2024-12-09 01:22:23,061 INFO status has been updated to running\n",
      "2024-12-09 01:28:39,589 INFO status has been updated to successful\n",
      "                                                                                        \r"
     ]
    },
    {
     "name": "stdout",
     "output_type": "stream",
     "text": [
      "Data saved to temp_weather_data/2023/03/Valencia_2023-03.grib.\n",
      "Requesting data for Castile-La Mancha (Wind) (39.8951, -3.0407) for month 03...\n"
     ]
    },
    {
     "name": "stderr",
     "output_type": "stream",
     "text": [
      "2024-12-09 01:28:40,705 INFO Request ID is d72cbd5d-8d10-4dbe-bd00-578e9dbd31de\n",
      "2024-12-09 01:28:40,787 INFO status has been updated to accepted\n",
      "2024-12-09 01:28:49,354 INFO status has been updated to running\n",
      "2024-12-09 01:35:02,886 INFO status has been updated to successful\n",
      "                                                                                        \r"
     ]
    },
    {
     "name": "stdout",
     "output_type": "stream",
     "text": [
      "Data saved to temp_weather_data/2023/03/Castile-La Mancha (Wind)_2023-03.grib.\n",
      "Requesting data for Aragon (Wind) (41.6488, -0.8891) for month 03...\n"
     ]
    },
    {
     "name": "stderr",
     "output_type": "stream",
     "text": [
      "2024-12-09 01:35:04,872 INFO Request ID is dcbc7508-ce38-4284-b010-1a174e10d5d5\n",
      "2024-12-09 01:35:04,934 INFO status has been updated to accepted\n",
      "2024-12-09 01:35:13,298 INFO status has been updated to running\n",
      "2024-12-09 01:39:27,131 INFO status has been updated to successful\n",
      "2024-12-09 01:39:27,832 INFO Request ID is 2ef4c263-1daa-4391-9998-2d7966403543         \n"
     ]
    },
    {
     "name": "stdout",
     "output_type": "stream",
     "text": [
      "Data saved to temp_weather_data/2023/03/Aragon (Wind)_2023-03.grib.\n",
      "Requesting data for Andalusia (Wind) (37.3886, -5.9823) for month 03...\n"
     ]
    },
    {
     "name": "stderr",
     "output_type": "stream",
     "text": [
      "2024-12-09 01:39:30,495 INFO status has been updated to accepted\n",
      "2024-12-09 01:39:31,584 INFO status has been updated to running\n",
      "2024-12-09 01:45:49,993 INFO status has been updated to successful\n",
      "2024-12-09 01:45:50,654 INFO Request ID is 952d6c3a-82bd-4817-aed7-86f57e77d334         \n"
     ]
    },
    {
     "name": "stdout",
     "output_type": "stream",
     "text": [
      "Data saved to temp_weather_data/2023/03/Andalusia (Wind)_2023-03.grib.\n",
      "Requesting data for Escatrón-Chiprana-Samper (Solar) (41.3842, -0.3743) for month 03...\n"
     ]
    },
    {
     "name": "stderr",
     "output_type": "stream",
     "text": [
      "2024-12-09 01:45:52,595 INFO status has been updated to accepted\n",
      "2024-12-09 01:45:57,480 INFO status has been updated to running\n",
      "2024-12-09 01:52:11,758 INFO status has been updated to successful\n",
      "                                                                                        \r"
     ]
    },
    {
     "name": "stdout",
     "output_type": "stream",
     "text": [
      "Data saved to temp_weather_data/2023/03/Escatrón-Chiprana-Samper (Solar)_2023-03.grib.\n",
      "Requesting data for Talasol Solar (Solar) (39.7291, -6.3391) for month 03...\n"
     ]
    },
    {
     "name": "stderr",
     "output_type": "stream",
     "text": [
      "2024-12-09 01:52:14,528 INFO Request ID is 32e5e949-c244-43e0-b6cf-19e9773d36d0\n",
      "2024-12-09 01:52:15,675 INFO status has been updated to accepted\n",
      "2024-12-09 01:52:21,086 INFO status has been updated to running\n",
      "2024-12-09 01:58:42,373 INFO status has been updated to successful\n",
      "2024-12-09 01:58:43,315 INFO Request ID is 14fbbf00-c0de-46d7-ab48-2429099f86e5         \n"
     ]
    },
    {
     "name": "stdout",
     "output_type": "stream",
     "text": [
      "Data saved to temp_weather_data/2023/03/Talasol Solar (Solar)_2023-03.grib.\n",
      "Requesting data for Talayuela Solar (Solar) (39.9862, -5.9815) for month 03...\n"
     ]
    },
    {
     "name": "stderr",
     "output_type": "stream",
     "text": [
      "2024-12-09 01:58:43,742 INFO status has been updated to accepted\n",
      "2024-12-09 01:58:48,985 INFO status has been updated to running\n",
      "2024-12-09 02:05:04,771 INFO status has been updated to successful\n",
      "                                                                                        \r"
     ]
    },
    {
     "name": "stdout",
     "output_type": "stream",
     "text": [
      "Data saved to temp_weather_data/2023/03/Talayuela Solar (Solar)_2023-03.grib.\n",
      "Processing month: 04...\n",
      "Requesting data for Madrid (40.4165, -3.7026) for month 04...\n"
     ]
    },
    {
     "name": "stderr",
     "output_type": "stream",
     "text": [
      "2024-12-09 02:05:06,156 INFO Request ID is 843188ba-8c2b-4fba-b823-b615eccb1fbd\n",
      "2024-12-09 02:05:07,408 INFO status has been updated to accepted\n",
      "2024-12-09 02:05:14,602 INFO status has been updated to running\n",
      "2024-12-09 02:09:31,361 INFO status has been updated to successful\n",
      "                                                                                        \r"
     ]
    },
    {
     "name": "stdout",
     "output_type": "stream",
     "text": [
      "Data saved to temp_weather_data/2023/04/Madrid_2023-04.grib.\n",
      "Requesting data for Barcelona (41.3851, 2.1734) for month 04...\n"
     ]
    },
    {
     "name": "stderr",
     "output_type": "stream",
     "text": [
      "2024-12-09 02:09:37,194 INFO Request ID is 7258e269-abaf-40a3-b9a0-dac2adc6294c\n",
      "2024-12-09 02:09:39,530 INFO status has been updated to accepted\n",
      "2024-12-09 02:09:44,874 INFO status has been updated to running\n",
      "2024-12-09 02:14:02,635 INFO status has been updated to successful\n",
      "                                                                                      \r"
     ]
    },
    {
     "name": "stdout",
     "output_type": "stream",
     "text": [
      "Data saved to temp_weather_data/2023/04/Barcelona_2023-04.grib.\n",
      "Requesting data for Seville (37.3891, -5.9845) for month 04...\n"
     ]
    },
    {
     "name": "stderr",
     "output_type": "stream",
     "text": [
      "2024-12-09 02:14:03,469 INFO Request ID is 3ea3cba4-eb2f-4bbf-88b3-f84af18ac042\n",
      "2024-12-09 02:14:03,609 INFO status has been updated to accepted\n",
      "2024-12-09 02:14:13,130 INFO status has been updated to running\n",
      "2024-12-09 02:18:28,334 INFO status has been updated to successful\n",
      "2024-12-09 02:18:32,655 INFO Request ID is 0cc259bc-48a4-4dcb-914a-0fbd2acf1051         \n"
     ]
    },
    {
     "name": "stdout",
     "output_type": "stream",
     "text": [
      "Data saved to temp_weather_data/2023/04/Seville_2023-04.grib.\n",
      "Requesting data for Valencia (39.4699, -0.3763) for month 04...\n"
     ]
    },
    {
     "name": "stderr",
     "output_type": "stream",
     "text": [
      "2024-12-09 02:18:34,830 INFO status has been updated to accepted\n",
      "2024-12-09 02:18:43,314 INFO status has been updated to running\n",
      "2024-12-09 02:22:55,893 INFO status has been updated to successful\n",
      "                                                                                        \r"
     ]
    },
    {
     "name": "stdout",
     "output_type": "stream",
     "text": [
      "Data saved to temp_weather_data/2023/04/Valencia_2023-04.grib.\n",
      "Requesting data for Castile-La Mancha (Wind) (39.8951, -3.0407) for month 04...\n"
     ]
    },
    {
     "name": "stderr",
     "output_type": "stream",
     "text": [
      "2024-12-09 02:22:58,550 INFO Request ID is 7c573b7b-1928-434c-8dba-b4db4d0aaa15\n",
      "2024-12-09 02:22:58,603 INFO status has been updated to accepted\n",
      "2024-12-09 02:23:04,259 INFO status has been updated to running\n",
      "2024-12-09 02:27:18,291 INFO status has been updated to successful\n",
      "                                                                                        \r"
     ]
    },
    {
     "name": "stdout",
     "output_type": "stream",
     "text": [
      "Data saved to temp_weather_data/2023/04/Castile-La Mancha (Wind)_2023-04.grib.\n",
      "Requesting data for Aragon (Wind) (41.6488, -0.8891) for month 04...\n"
     ]
    },
    {
     "name": "stderr",
     "output_type": "stream",
     "text": [
      "2024-12-09 02:27:21,083 INFO Request ID is 1cfa00d4-8485-4e8b-aa9b-dc4174284524\n",
      "2024-12-09 02:27:21,132 INFO status has been updated to accepted\n",
      "2024-12-09 02:27:26,377 INFO status has been updated to running\n",
      "2024-12-09 02:31:43,951 INFO status has been updated to successful\n",
      "                                                                                        \r"
     ]
    },
    {
     "name": "stdout",
     "output_type": "stream",
     "text": [
      "Data saved to temp_weather_data/2023/04/Aragon (Wind)_2023-04.grib.\n",
      "Requesting data for Andalusia (Wind) (37.3886, -5.9823) for month 04...\n"
     ]
    },
    {
     "name": "stderr",
     "output_type": "stream",
     "text": [
      "2024-12-09 02:31:45,580 INFO Request ID is bbb229f6-7a5e-46ad-a772-15f47581ef77\n",
      "2024-12-09 02:31:47,918 INFO status has been updated to accepted\n",
      "2024-12-09 02:31:56,319 INFO status has been updated to running\n",
      "2024-12-09 02:36:09,496 INFO status has been updated to successful\n",
      "                                                                                        \r"
     ]
    },
    {
     "name": "stdout",
     "output_type": "stream",
     "text": [
      "Data saved to temp_weather_data/2023/04/Andalusia (Wind)_2023-04.grib.\n",
      "Requesting data for Escatrón-Chiprana-Samper (Solar) (41.3842, -0.3743) for month 04...\n"
     ]
    },
    {
     "name": "stderr",
     "output_type": "stream",
     "text": [
      "2024-12-09 02:36:10,577 INFO Request ID is 79b2bcd1-f71f-48dc-afa7-f484c4be523a\n",
      "2024-12-09 02:36:11,513 INFO status has been updated to accepted\n",
      "2024-12-09 02:36:20,248 INFO status has been updated to running\n",
      "2024-12-09 02:40:30,821 INFO status has been updated to successful\n",
      "                                                                                        \r"
     ]
    },
    {
     "name": "stdout",
     "output_type": "stream",
     "text": [
      "Data saved to temp_weather_data/2023/04/Escatrón-Chiprana-Samper (Solar)_2023-04.grib.\n",
      "Requesting data for Talasol Solar (Solar) (39.7291, -6.3391) for month 04...\n"
     ]
    },
    {
     "name": "stderr",
     "output_type": "stream",
     "text": [
      "2024-12-09 02:40:31,860 INFO Request ID is 42a598a6-222c-44e7-8be7-0a694387d861\n",
      "2024-12-09 02:40:31,901 INFO status has been updated to accepted\n",
      "2024-12-09 02:40:37,607 INFO status has been updated to running\n",
      "2024-12-09 02:44:53,408 INFO status has been updated to successful\n",
      "                                                                                        \r"
     ]
    },
    {
     "name": "stdout",
     "output_type": "stream",
     "text": [
      "Data saved to temp_weather_data/2023/04/Talasol Solar (Solar)_2023-04.grib.\n",
      "Requesting data for Talayuela Solar (Solar) (39.9862, -5.9815) for month 04...\n"
     ]
    },
    {
     "name": "stderr",
     "output_type": "stream",
     "text": [
      "2024-12-09 02:44:54,891 INFO Request ID is 5b38e6e3-60e9-454f-b208-b62083861ea7\n",
      "2024-12-09 02:44:54,972 INFO status has been updated to accepted\n",
      "2024-12-09 02:45:02,755 INFO status has been updated to running\n",
      "2024-12-09 02:49:19,314 INFO status has been updated to successful\n",
      "                                                                                        \r"
     ]
    },
    {
     "name": "stdout",
     "output_type": "stream",
     "text": [
      "Data saved to temp_weather_data/2023/04/Talayuela Solar (Solar)_2023-04.grib.\n",
      "Processing month: 05...\n",
      "Requesting data for Madrid (40.4165, -3.7026) for month 05...\n"
     ]
    },
    {
     "name": "stderr",
     "output_type": "stream",
     "text": [
      "2024-12-09 02:49:20,467 INFO Request ID is f106455c-3a4d-4570-bf10-9ad6b02ab014\n",
      "2024-12-09 02:49:20,578 INFO status has been updated to accepted\n",
      "2024-12-09 02:49:29,774 INFO status has been updated to running\n",
      "2024-12-09 02:55:44,588 INFO status has been updated to successful\n",
      "                                                                                        \r"
     ]
    },
    {
     "name": "stdout",
     "output_type": "stream",
     "text": [
      "Data saved to temp_weather_data/2023/05/Madrid_2023-05.grib.\n",
      "Requesting data for Barcelona (41.3851, 2.1734) for month 05...\n"
     ]
    },
    {
     "name": "stderr",
     "output_type": "stream",
     "text": [
      "2024-12-09 02:55:47,597 INFO Request ID is f00893d2-9aee-4973-b19e-a09434efbc8c\n",
      "2024-12-09 02:55:47,763 INFO status has been updated to accepted\n",
      "2024-12-09 02:55:56,276 INFO status has been updated to running\n",
      "2024-12-09 03:00:11,635 INFO status has been updated to successful\n",
      "                                                                                        \r"
     ]
    },
    {
     "name": "stdout",
     "output_type": "stream",
     "text": [
      "Data saved to temp_weather_data/2023/05/Barcelona_2023-05.grib.\n",
      "Requesting data for Seville (37.3891, -5.9845) for month 05...\n"
     ]
    },
    {
     "name": "stderr",
     "output_type": "stream",
     "text": [
      "2024-12-09 03:00:15,798 INFO Request ID is 6f181e73-bda7-40fc-b315-f59ae2dca2d9\n",
      "2024-12-09 03:00:15,844 INFO status has been updated to accepted\n",
      "2024-12-09 03:00:22,548 INFO status has been updated to running\n",
      "2024-12-09 03:04:39,855 INFO status has been updated to successful\n",
      "                                                                                        \r"
     ]
    },
    {
     "name": "stdout",
     "output_type": "stream",
     "text": [
      "Data saved to temp_weather_data/2023/05/Seville_2023-05.grib.\n",
      "Requesting data for Valencia (39.4699, -0.3763) for month 05...\n"
     ]
    },
    {
     "name": "stderr",
     "output_type": "stream",
     "text": [
      "2024-12-09 03:04:41,103 INFO Request ID is 2c2fc7cd-f515-4084-bfa2-cdc8c9abf127\n",
      "2024-12-09 03:04:41,198 INFO status has been updated to accepted\n",
      "2024-12-09 03:04:51,093 INFO status has been updated to running\n",
      "2024-12-09 03:09:04,861 INFO status has been updated to successful\n",
      "                                                                                        \r"
     ]
    },
    {
     "name": "stdout",
     "output_type": "stream",
     "text": [
      "Data saved to temp_weather_data/2023/05/Valencia_2023-05.grib.\n",
      "Requesting data for Castile-La Mancha (Wind) (39.8951, -3.0407) for month 05...\n"
     ]
    },
    {
     "name": "stderr",
     "output_type": "stream",
     "text": [
      "2024-12-09 03:09:05,977 INFO Request ID is e8bba601-bd7d-4c30-a9ce-b71e4502d676\n",
      "2024-12-09 03:09:07,772 INFO status has been updated to accepted\n",
      "2024-12-09 03:09:14,267 INFO status has been updated to running\n",
      "2024-12-09 03:13:28,891 INFO status has been updated to successful\n",
      "2024-12-09 03:13:30,866 INFO Request ID is 7b68aa91-4391-4b39-8c7b-3ea28fce19e0         \n"
     ]
    },
    {
     "name": "stdout",
     "output_type": "stream",
     "text": [
      "Data saved to temp_weather_data/2023/05/Castile-La Mancha (Wind)_2023-05.grib.\n",
      "Requesting data for Aragon (Wind) (41.6488, -0.8891) for month 05...\n"
     ]
    },
    {
     "name": "stderr",
     "output_type": "stream",
     "text": [
      "2024-12-09 03:13:30,911 INFO status has been updated to accepted\n",
      "2024-12-09 03:13:39,317 INFO status has been updated to running\n",
      "2024-12-09 03:17:55,211 INFO status has been updated to successful\n",
      "                                                                                        \r"
     ]
    },
    {
     "name": "stdout",
     "output_type": "stream",
     "text": [
      "Data saved to temp_weather_data/2023/05/Aragon (Wind)_2023-05.grib.\n",
      "Requesting data for Andalusia (Wind) (37.3886, -5.9823) for month 05...\n"
     ]
    },
    {
     "name": "stderr",
     "output_type": "stream",
     "text": [
      "2024-12-09 03:17:55,959 INFO Request ID is f12c00d3-fce0-473a-8c93-e0d3d77bf2bf\n",
      "2024-12-09 03:17:56,341 INFO status has been updated to accepted\n",
      "2024-12-09 03:18:05,144 INFO status has been updated to running\n",
      "2024-12-09 03:22:17,592 INFO status has been updated to successful\n",
      "2024-12-09 03:22:18,475 INFO Request ID is 56cb2935-3b24-4853-9195-22c1010f1029         \n"
     ]
    },
    {
     "name": "stdout",
     "output_type": "stream",
     "text": [
      "Data saved to temp_weather_data/2023/05/Andalusia (Wind)_2023-05.grib.\n",
      "Requesting data for Escatrón-Chiprana-Samper (Solar) (41.3842, -0.3743) for month 05...\n"
     ]
    },
    {
     "name": "stderr",
     "output_type": "stream",
     "text": [
      "2024-12-09 03:22:18,568 INFO status has been updated to accepted\n",
      "2024-12-09 03:22:27,219 INFO status has been updated to running\n",
      "2024-12-09 03:26:39,039 INFO status has been updated to successful\n",
      "                                                                                        \r"
     ]
    },
    {
     "name": "stdout",
     "output_type": "stream",
     "text": [
      "Data saved to temp_weather_data/2023/05/Escatrón-Chiprana-Samper (Solar)_2023-05.grib.\n",
      "Requesting data for Talasol Solar (Solar) (39.7291, -6.3391) for month 05...\n"
     ]
    },
    {
     "name": "stderr",
     "output_type": "stream",
     "text": [
      "2024-12-09 03:26:43,514 INFO Request ID is 491bf52e-f373-406a-a65c-1fca2cf4ebbd\n",
      "2024-12-09 03:26:43,630 INFO status has been updated to accepted\n",
      "2024-12-09 03:26:49,720 INFO status has been updated to running\n",
      "2024-12-09 03:33:10,938 INFO status has been updated to successful\n",
      "                                                                                        \r"
     ]
    },
    {
     "name": "stdout",
     "output_type": "stream",
     "text": [
      "Data saved to temp_weather_data/2023/05/Talasol Solar (Solar)_2023-05.grib.\n",
      "Requesting data for Talayuela Solar (Solar) (39.9862, -5.9815) for month 05...\n"
     ]
    },
    {
     "name": "stderr",
     "output_type": "stream",
     "text": [
      "2024-12-09 03:33:11,776 INFO Request ID is fe964335-f0f1-4066-b315-25274ad744c0\n",
      "2024-12-09 03:33:11,813 INFO status has been updated to accepted\n",
      "2024-12-09 03:33:21,035 INFO status has been updated to running\n",
      "2024-12-09 03:37:32,169 INFO status has been updated to successful\n",
      "                                                                                        \r"
     ]
    },
    {
     "name": "stdout",
     "output_type": "stream",
     "text": [
      "Data saved to temp_weather_data/2023/05/Talayuela Solar (Solar)_2023-05.grib.\n",
      "Processing month: 06...\n",
      "Requesting data for Madrid (40.4165, -3.7026) for month 06...\n"
     ]
    },
    {
     "name": "stderr",
     "output_type": "stream",
     "text": [
      "2024-12-09 03:37:33,070 INFO Request ID is dcb4ebd5-2ad0-47d9-b8de-d3c4feb0f501\n",
      "2024-12-09 03:37:33,118 INFO status has been updated to accepted\n",
      "2024-12-09 03:37:38,209 INFO status has been updated to running\n",
      "2024-12-09 03:43:53,811 INFO status has been updated to successful\n",
      "                                                                                        \r"
     ]
    },
    {
     "name": "stdout",
     "output_type": "stream",
     "text": [
      "Data saved to temp_weather_data/2023/06/Madrid_2023-06.grib.\n",
      "Requesting data for Barcelona (41.3851, 2.1734) for month 06...\n"
     ]
    },
    {
     "name": "stderr",
     "output_type": "stream",
     "text": [
      "2024-12-09 03:43:55,256 INFO Request ID is ab187c2a-9164-4def-a9f3-7c1f892b2b7b\n",
      "2024-12-09 03:43:55,760 INFO status has been updated to accepted\n",
      "2024-12-09 03:44:05,310 INFO status has been updated to running\n",
      "2024-12-09 03:48:19,552 INFO status has been updated to successful\n",
      "                                                                                        \r"
     ]
    },
    {
     "name": "stdout",
     "output_type": "stream",
     "text": [
      "Data saved to temp_weather_data/2023/06/Barcelona_2023-06.grib.\n",
      "Requesting data for Seville (37.3891, -5.9845) for month 06...\n"
     ]
    },
    {
     "name": "stderr",
     "output_type": "stream",
     "text": [
      "2024-12-09 03:48:22,491 INFO Request ID is d3ed797e-0d55-4c20-a31e-1a3328677978\n",
      "2024-12-09 03:48:22,570 INFO status has been updated to accepted\n",
      "2024-12-09 03:48:32,173 INFO status has been updated to running\n",
      "2024-12-09 03:52:43,528 INFO status has been updated to successful\n",
      "                                                                                        \r"
     ]
    },
    {
     "name": "stdout",
     "output_type": "stream",
     "text": [
      "Data saved to temp_weather_data/2023/06/Seville_2023-06.grib.\n",
      "Requesting data for Valencia (39.4699, -0.3763) for month 06...\n"
     ]
    },
    {
     "name": "stderr",
     "output_type": "stream",
     "text": [
      "2024-12-09 03:52:45,588 INFO Request ID is 88db6d04-8a84-49fc-99dc-aa5b715d1195\n",
      "2024-12-09 03:52:45,648 INFO status has been updated to accepted\n",
      "2024-12-09 03:52:54,490 INFO status has been updated to running\n",
      "2024-12-09 03:57:06,410 INFO status has been updated to successful\n",
      "                                                                                       \r"
     ]
    },
    {
     "name": "stdout",
     "output_type": "stream",
     "text": [
      "Data saved to temp_weather_data/2023/06/Valencia_2023-06.grib.\n",
      "Requesting data for Castile-La Mancha (Wind) (39.8951, -3.0407) for month 06...\n"
     ]
    },
    {
     "name": "stderr",
     "output_type": "stream",
     "text": [
      "2024-12-09 03:57:08,621 INFO Request ID is ac265f42-8b7e-4e32-b0d9-89b2cec2c368\n",
      "2024-12-09 03:57:08,734 INFO status has been updated to accepted\n",
      "2024-12-09 03:57:14,166 INFO status has been updated to running\n",
      "2024-12-09 04:01:28,838 INFO status has been updated to successful\n",
      "                                                                                        \r"
     ]
    },
    {
     "name": "stdout",
     "output_type": "stream",
     "text": [
      "Data saved to temp_weather_data/2023/06/Castile-La Mancha (Wind)_2023-06.grib.\n",
      "Requesting data for Aragon (Wind) (41.6488, -0.8891) for month 06...\n"
     ]
    },
    {
     "name": "stderr",
     "output_type": "stream",
     "text": [
      "2024-12-09 04:01:29,694 INFO Request ID is 4f003490-fec2-4a53-8d9e-4209160c7669\n",
      "2024-12-09 04:01:29,749 INFO status has been updated to accepted\n",
      "2024-12-09 04:01:38,273 INFO status has been updated to running\n",
      "2024-12-09 04:07:50,072 INFO status has been updated to successful\n",
      "                                                                                        \r"
     ]
    },
    {
     "name": "stdout",
     "output_type": "stream",
     "text": [
      "Data saved to temp_weather_data/2023/06/Aragon (Wind)_2023-06.grib.\n",
      "Requesting data for Andalusia (Wind) (37.3886, -5.9823) for month 06...\n"
     ]
    },
    {
     "name": "stderr",
     "output_type": "stream",
     "text": [
      "2024-12-09 04:07:53,449 INFO Request ID is 5efab647-8e4c-403e-a69f-cf6a20f5358a\n",
      "2024-12-09 04:07:53,493 INFO status has been updated to accepted\n",
      "2024-12-09 04:18:18,212 INFO status has been updated to running\n",
      "2024-12-09 04:30:30,660 INFO status has been updated to successful\n",
      "                                                                                       \r"
     ]
    },
    {
     "name": "stdout",
     "output_type": "stream",
     "text": [
      "Data saved to temp_weather_data/2023/06/Andalusia (Wind)_2023-06.grib.\n",
      "Requesting data for Escatrón-Chiprana-Samper (Solar) (41.3842, -0.3743) for month 06...\n"
     ]
    },
    {
     "name": "stderr",
     "output_type": "stream",
     "text": [
      "2024-12-09 04:30:33,066 INFO Request ID is eb818ca3-d4ef-4998-94b0-7e29d1ad6995\n",
      "2024-12-09 04:30:33,150 INFO status has been updated to accepted\n",
      "2024-12-09 04:30:44,129 INFO status has been updated to running\n",
      "2024-12-09 04:34:55,299 INFO status has been updated to successful\n",
      "                                                                                        \r"
     ]
    },
    {
     "name": "stdout",
     "output_type": "stream",
     "text": [
      "Data saved to temp_weather_data/2023/06/Escatrón-Chiprana-Samper (Solar)_2023-06.grib.\n",
      "Requesting data for Talasol Solar (Solar) (39.7291, -6.3391) for month 06...\n"
     ]
    },
    {
     "name": "stderr",
     "output_type": "stream",
     "text": [
      "2024-12-09 04:34:59,825 INFO Request ID is 51fd6509-b885-40c4-aeca-5cb161f4f588\n",
      "2024-12-09 04:35:00,270 INFO status has been updated to accepted\n",
      "2024-12-09 04:35:10,329 INFO status has been updated to running\n",
      "2024-12-09 04:39:20,912 INFO status has been updated to successful\n",
      "                                                                                        \r"
     ]
    },
    {
     "name": "stdout",
     "output_type": "stream",
     "text": [
      "Data saved to temp_weather_data/2023/06/Talasol Solar (Solar)_2023-06.grib.\n",
      "Requesting data for Talayuela Solar (Solar) (39.9862, -5.9815) for month 06...\n"
     ]
    },
    {
     "name": "stderr",
     "output_type": "stream",
     "text": [
      "2024-12-09 04:39:23,181 INFO Request ID is c5ee13d3-2fd2-4577-979e-fe3d7629d3be\n",
      "2024-12-09 04:39:23,262 INFO status has been updated to accepted\n",
      "2024-12-09 04:40:40,083 INFO status has been updated to running\n",
      "2024-12-09 04:43:44,934 INFO status has been updated to successful\n",
      "                                                                                        \r"
     ]
    },
    {
     "name": "stdout",
     "output_type": "stream",
     "text": [
      "Data saved to temp_weather_data/2023/06/Talayuela Solar (Solar)_2023-06.grib.\n",
      "Processing month directory: temp_weather_data/2023/01...\n",
      "Processing file: temp_weather_data/2023/01/Valencia_2023-01.grib...\n",
      "Processing file: temp_weather_data/2023/01/Barcelona_2023-01.grib...\n",
      "Processing file: temp_weather_data/2023/01/Escatrón-Chiprana-Samper (Solar)_2023-01.grib...\n",
      "Processing file: temp_weather_data/2023/01/Aragon (Wind)_2023-01.grib...\n",
      "Processing file: temp_weather_data/2023/01/Castile-La Mancha (Wind)_2023-01.grib...\n",
      "Processing file: temp_weather_data/2023/01/Madrid_2023-01.grib...\n",
      "Processing file: temp_weather_data/2023/01/Talayuela Solar (Solar)_2023-01.grib...\n",
      "Processing file: temp_weather_data/2023/01/Talasol Solar (Solar)_2023-01.grib...\n",
      "Processing file: temp_weather_data/2023/01/Andalusia (Wind)_2023-01.grib...\n",
      "Processing file: temp_weather_data/2023/01/Seville_2023-01.grib...\n",
      "Processing file: temp_weather_data/2023/01/Bilbao_2023-01.grib...\n",
      "Processing month directory: temp_weather_data/2023/02...\n",
      "Processing file: temp_weather_data/2023/02/Madrid_2023-02.grib...\n",
      "Processing file: temp_weather_data/2023/02/Barcelona_2023-02.grib...\n",
      "Processing file: temp_weather_data/2023/02/Seville_2023-02.grib...\n",
      "Processing file: temp_weather_data/2023/02/Valencia_2023-02.grib...\n",
      "Processing file: temp_weather_data/2023/02/Escatrón-Chiprana-Samper (Solar)_2023-02.grib...\n",
      "Processing file: temp_weather_data/2023/02/Andalusia (Wind)_2023-02.grib...\n",
      "Processing file: temp_weather_data/2023/02/Castile-La Mancha (Wind)_2023-02.grib...\n",
      "Processing file: temp_weather_data/2023/02/Talayuela Solar (Solar)_2023-02.grib...\n",
      "Processing file: temp_weather_data/2023/02/Aragon (Wind)_2023-02.grib...\n",
      "Processing file: temp_weather_data/2023/02/Talasol Solar (Solar)_2023-02.grib...\n",
      "Processing month directory: temp_weather_data/2023/03...\n",
      "Processing file: temp_weather_data/2023/03/Talasol Solar (Solar)_2023-03.grib...\n",
      "Processing file: temp_weather_data/2023/03/Escatrón-Chiprana-Samper (Solar)_2023-03.grib...\n",
      "Processing file: temp_weather_data/2023/03/Aragon (Wind)_2023-03.grib...\n",
      "Processing file: temp_weather_data/2023/03/Seville_2023-03.grib...\n",
      "Processing file: temp_weather_data/2023/03/Castile-La Mancha (Wind)_2023-03.grib...\n",
      "Processing file: temp_weather_data/2023/03/Andalusia (Wind)_2023-03.grib...\n",
      "Processing file: temp_weather_data/2023/03/Barcelona_2023-03.grib...\n",
      "Processing file: temp_weather_data/2023/03/Madrid_2023-03.grib...\n",
      "Processing file: temp_weather_data/2023/03/Valencia_2023-03.grib...\n",
      "Processing file: temp_weather_data/2023/03/Talayuela Solar (Solar)_2023-03.grib...\n",
      "Processing month directory: temp_weather_data/2023/04...\n",
      "Processing file: temp_weather_data/2023/04/Talayuela Solar (Solar)_2023-04.grib...\n",
      "Processing file: temp_weather_data/2023/04/Barcelona_2023-04.grib...\n",
      "Processing file: temp_weather_data/2023/04/Madrid_2023-04.grib...\n",
      "Processing file: temp_weather_data/2023/04/Andalusia (Wind)_2023-04.grib...\n",
      "Processing file: temp_weather_data/2023/04/Seville_2023-04.grib...\n",
      "Processing file: temp_weather_data/2023/04/Castile-La Mancha (Wind)_2023-04.grib...\n",
      "Processing file: temp_weather_data/2023/04/Talasol Solar (Solar)_2023-04.grib...\n",
      "Processing file: temp_weather_data/2023/04/Escatrón-Chiprana-Samper (Solar)_2023-04.grib...\n",
      "Processing file: temp_weather_data/2023/04/Valencia_2023-04.grib...\n",
      "Processing file: temp_weather_data/2023/04/Aragon (Wind)_2023-04.grib...\n",
      "Processing month directory: temp_weather_data/2023/05...\n",
      "Processing file: temp_weather_data/2023/05/Madrid_2023-05.grib...\n",
      "Processing file: temp_weather_data/2023/05/Valencia_2023-05.grib...\n",
      "Processing file: temp_weather_data/2023/05/Escatrón-Chiprana-Samper (Solar)_2023-05.grib...\n",
      "Processing file: temp_weather_data/2023/05/Talasol Solar (Solar)_2023-05.grib...\n",
      "Processing file: temp_weather_data/2023/05/Castile-La Mancha (Wind)_2023-05.grib...\n",
      "Processing file: temp_weather_data/2023/05/Aragon (Wind)_2023-05.grib...\n",
      "Processing file: temp_weather_data/2023/05/Talayuela Solar (Solar)_2023-05.grib...\n",
      "Processing file: temp_weather_data/2023/05/Seville_2023-05.grib...\n",
      "Processing file: temp_weather_data/2023/05/Andalusia (Wind)_2023-05.grib...\n",
      "Processing file: temp_weather_data/2023/05/Barcelona_2023-05.grib...\n",
      "Processing month directory: temp_weather_data/2023/06...\n",
      "Processing file: temp_weather_data/2023/06/Barcelona_2023-06.grib...\n",
      "Processing file: temp_weather_data/2023/06/Andalusia (Wind)_2023-06.grib...\n",
      "Processing file: temp_weather_data/2023/06/Valencia_2023-06.grib...\n",
      "Processing file: temp_weather_data/2023/06/Talasol Solar (Solar)_2023-06.grib...\n",
      "Processing file: temp_weather_data/2023/06/Castile-La Mancha (Wind)_2023-06.grib...\n",
      "Processing file: temp_weather_data/2023/06/Aragon (Wind)_2023-06.grib...\n",
      "Processing file: temp_weather_data/2023/06/Madrid_2023-06.grib...\n",
      "Processing file: temp_weather_data/2023/06/Talayuela Solar (Solar)_2023-06.grib...\n",
      "Processing file: temp_weather_data/2023/06/Seville_2023-06.grib...\n",
      "Processing file: temp_weather_data/2023/06/Escatrón-Chiprana-Samper (Solar)_2023-06.grib...\n",
      "Combining all data into a single DataFrame...\n",
      "Consolidated weather data saved to output_weather_data/weather_data_2023.csv.\n"
     ]
    }
   ],
   "source": [
    "import cdsapi\n",
    "import json\n",
    "import os\n",
    "import pandas as pd\n",
    "from datetime import datetime\n",
    "from calendar import monthrange\n",
    "import xarray as xr\n",
    "\n",
    "# Load the configuration\n",
    "with open(\"config.json\", \"r\") as config_file:\n",
    "    config = json.load(config_file)\n",
    "\n",
    "locations = config[\"locations\"]\n",
    "variables = config[\"variables\"]\n",
    "times = config[\"time\"]  # Get the timeslots from the configuration file\n",
    "\n",
    "# Define the CDS API client\n",
    "c = cdsapi.Client()\n",
    "\n",
    "# Base directories for temporary and output files\n",
    "base_temp_dir = \"temp_weather_data\"\n",
    "base_output_dir = \"output_weather_data\"\n",
    "os.makedirs(base_temp_dir, exist_ok=True)\n",
    "os.makedirs(base_output_dir, exist_ok=True)\n",
    "\n",
    "# Generate data for each month\n",
    "for month in range(1, 7):  # Loop through months 1 to 12\n",
    "    month_str = f\"{month:02}\"  # Ensure two-digit month format\n",
    "\n",
    "    # Determine the number of days in the current month\n",
    "    num_days = monthrange(2023, month)[1]\n",
    "    days = [f\"{day:02}\" for day in range(1, num_days + 1)]\n",
    "\n",
    "    print(f\"Processing month: {month_str}...\")\n",
    "\n",
    "    # Create a directory for this month\n",
    "    temp_dir = os.path.join(base_temp_dir, \"2023\", month_str)\n",
    "    os.makedirs(temp_dir, exist_ok=True)\n",
    "\n",
    "    # Process each location\n",
    "    for location in locations:\n",
    "        lat, lon, name = location[\"latitude\"], location[\"longitude\"], location[\"name\"]\n",
    "        file_name = os.path.join(temp_dir, f\"{name}_2023-{month_str}.grib\")\n",
    "        \n",
    "        if not os.path.exists(file_name):  # Avoid re-downloading if file exists\n",
    "            print(f\"Requesting data for {name} ({lat}, {lon}) for month {month_str}...\")\n",
    "            request = {\n",
    "                \"variable\": variables,\n",
    "                \"year\": \"2023\",\n",
    "                \"month\": [month_str],\n",
    "                \"day\": days,  # Dynamically calculated days\n",
    "                \"time\": times,  # Time slots from configuration\n",
    "                \"format\": \"grib\",\n",
    "                \"area\": [lat + 0.1, lon - 0.1, lat - 0.1, lon + 0.1],\n",
    "            }\n",
    "            try:\n",
    "                c.retrieve(\"reanalysis-era5-land\", request, file_name)\n",
    "                print(f\"Data saved to {file_name}.\")\n",
    "            except Exception as e:\n",
    "                print(f\"Error retrieving data for {name}, {month_str}: {e}\")\n",
    "        else:\n",
    "            print(f\"File {file_name} already exists. Skipping download.\")\n",
    "\n",
    "# Consolidate all downloaded data\n",
    "all_data = []\n",
    "\n",
    "# Process each month directory\n",
    "year_dir = os.path.join(base_temp_dir, \"2023\")\n",
    "for month_dir in sorted(os.listdir(year_dir)):\n",
    "    month_path = os.path.join(year_dir, month_dir)\n",
    "    if os.path.isdir(month_path):\n",
    "        print(f\"Processing month directory: {month_path}...\")\n",
    "        for file in os.listdir(month_path):\n",
    "            if file.endswith(\".grib\"):\n",
    "                file_path = os.path.join(month_path, file)\n",
    "                print(f\"Processing file: {file_path}...\")\n",
    "                try:\n",
    "                    ds = xr.open_dataset(file_path, engine=\"cfgrib\")\n",
    "                    df = ds.to_dataframe().reset_index()\n",
    "\n",
    "                    # Extract location name from file\n",
    "                    location_name = file.split(\"_2023-\")[0]\n",
    "\n",
    "                    # Add metadata\n",
    "                    df[\"location_name\"] = location_name\n",
    "\n",
    "                    all_data.append(df)\n",
    "                except Exception as e:\n",
    "                    print(f\"Error processing {file_path}: {e}\")\n",
    "\n",
    "# Combine all data into a single DataFrame\n",
    "if all_data:\n",
    "    print(\"Combining all data into a single DataFrame...\")\n",
    "    combined_df = pd.concat(all_data, ignore_index=True)\n",
    "\n",
    "    # Save combined data to CSV\n",
    "    output_csv_file = os.path.join(base_output_dir, \"weather_data_2023.csv\")\n",
    "    combined_df.to_csv(output_csv_file, index=False)\n",
    "    print(f\"Consolidated weather data saved to {output_csv_file}.\")\n",
    "else:\n",
    "    print(\"No data to consolidate.\")\n"
   ]
  },
  {
   "cell_type": "code",
   "execution_count": 18,
   "metadata": {},
   "outputs": [
    {
     "name": "stdout",
     "output_type": "stream",
     "text": [
      "Loading output_weather_data/weather_data_2023.csv...\n",
      "Processing data...\n",
      "Saving data by location to output_weather_data/weather_data_by_location_2023.json...\n",
      "Consolidating data by time...\n",
      "Saving consolidated data to output_weather_data/consolidated_weather_data_by_time_2023.csv...\n",
      "Processing complete.\n"
     ]
    }
   ],
   "source": [
    "import os\n",
    "import pandas as pd\n",
    "import json\n",
    "\n",
    "# Configuration\n",
    "input_csv = \"output_weather_data/weather_data_2023.csv\"\n",
    "output_json = \"output_weather_data/weather_data_by_location_2023.json\"\n",
    "output_csv = \"output_weather_data/consolidated_weather_data_by_time_2023.csv\"\n",
    "\n",
    "# Load the CSV file\n",
    "print(f\"Loading {input_csv}...\")\n",
    "df = pd.read_csv(input_csv)\n",
    "\n",
    "# Convert time columns to datetime for easier processing\n",
    "df[\"valid_time\"] = pd.to_datetime(df[\"valid_time\"])\n",
    "\n",
    "# Initialize the main dictionary\n",
    "weather_data = {}\n",
    "\n",
    "# Group the data by location and valid_time\n",
    "print(\"Processing data...\")\n",
    "grouped = df.groupby([\"location_name\", \"valid_time\"])\n",
    "\n",
    "for (location, valid_time), group in grouped:\n",
    "    # Initialize the location's data if not already present\n",
    "    if location not in weather_data:\n",
    "        weather_data[location] = []\n",
    "\n",
    "    # Aggregate data for the time slot\n",
    "    aggregated_data = {\n",
    "        \"valid_time\": valid_time.isoformat(),\n",
    "        \"latitude\": group[\"latitude\"].mean(skipna=True),\n",
    "        \"longitude\": group[\"longitude\"].mean(skipna=True),\n",
    "        \"temperature\": group[\"t2m\"].mean(skipna=True),\n",
    "        \"solar_radiation\": group[\"ssr\"].mean(skipna=True),\n",
    "        \"wind_u_component\": group[\"u10\"].mean(skipna=True),\n",
    "        \"wind_v_component\": group[\"v10\"].mean(skipna=True),\n",
    "        \"surface_pressure\": group[\"sp\"].mean(skipna=True),\n",
    "        \"total_precipitation\": group[\"tp\"].mean(skipna=True),\n",
    "    }\n",
    "    weather_data[location].append(aggregated_data)\n",
    "\n",
    "# Save the dictionary to a JSON file\n",
    "print(f\"Saving data by location to {output_json}...\")\n",
    "with open(output_json, \"w\") as json_file:\n",
    "    json.dump(weather_data, json_file, indent=4)\n",
    "\n",
    "# Consolidate data by valid_time\n",
    "print(\"Consolidating data by time...\")\n",
    "consolidated_data = {}\n",
    "\n",
    "# Process each location\n",
    "for location, records in weather_data.items():\n",
    "    for record in records:\n",
    "        valid_time = record[\"valid_time\"]\n",
    "\n",
    "        # Ensure the valid_time exists in the consolidated data\n",
    "        if valid_time not in consolidated_data:\n",
    "            consolidated_data[valid_time] = {}\n",
    "\n",
    "        # Flatten location-specific data into consolidated_data\n",
    "        consolidated_data[valid_time].update({\n",
    "            f\"{location}_latitude\": record[\"latitude\"],\n",
    "            f\"{location}_longitude\": record[\"longitude\"],\n",
    "            f\"{location}_temperature\": record[\"temperature\"],\n",
    "            f\"{location}_solar_radiation\": record[\"solar_radiation\"],\n",
    "            f\"{location}_wind_u_component\": record[\"wind_u_component\"],\n",
    "            f\"{location}_wind_v_component\": record[\"wind_v_component\"],\n",
    "            f\"{location}_surface_pressure\": record[\"surface_pressure\"],\n",
    "            f\"{location}_total_precipitation\": record[\"total_precipitation\"],\n",
    "        })\n",
    "\n",
    "# Convert the consolidated dictionary into a DataFrame\n",
    "df_consolidated = pd.DataFrame.from_dict(consolidated_data, orient=\"index\").reset_index()\n",
    "\n",
    "# Rename the index column to \"valid_time\"\n",
    "df_consolidated.rename(columns={\"index\": \"valid_time\"}, inplace=True)\n",
    "\n",
    "# Save the DataFrame to a CSV file\n",
    "print(f\"Saving consolidated data to {output_csv}...\")\n",
    "df_consolidated.to_csv(output_csv, index=False)\n",
    "\n",
    "print(\"Processing complete.\")\n"
   ]
  },
  {
   "cell_type": "markdown",
   "metadata": {},
   "source": [
    "### The current process is above"
   ]
  },
  {
   "cell_type": "code",
   "execution_count": null,
   "metadata": {},
   "outputs": [
    {
     "name": "stdout",
     "output_type": "stream",
     "text": [
      "Loading data from output_weather_data/weather_data_2023.csv...\n",
      "Processing data...\n",
      "Saving processed data to temp/2023_weather_data_by_location.json...\n"
     ]
    },
    {
     "ename": "FileNotFoundError",
     "evalue": "[Errno 2] No such file or directory: 'temp/2023_weather_data_by_location.json'",
     "output_type": "error",
     "traceback": [
      "\u001b[0;31m---------------------------------------------------------------------------\u001b[0m",
      "\u001b[0;31mFileNotFoundError\u001b[0m                         Traceback (most recent call last)",
      "Cell \u001b[0;32mIn[14], line 46\u001b[0m\n\u001b[1;32m     44\u001b[0m \u001b[38;5;66;03m# Save the processed data to a JSON file\u001b[39;00m\n\u001b[1;32m     45\u001b[0m \u001b[38;5;28mprint\u001b[39m(\u001b[38;5;124mf\u001b[39m\u001b[38;5;124m\"\u001b[39m\u001b[38;5;124mSaving processed data to \u001b[39m\u001b[38;5;132;01m{\u001b[39;00moutput_json_file\u001b[38;5;132;01m}\u001b[39;00m\u001b[38;5;124m...\u001b[39m\u001b[38;5;124m\"\u001b[39m)\n\u001b[0;32m---> 46\u001b[0m \u001b[38;5;28;01mwith\u001b[39;00m \u001b[38;5;28mopen\u001b[39m(output_json_file, \u001b[38;5;124m\"\u001b[39m\u001b[38;5;124mw\u001b[39m\u001b[38;5;124m\"\u001b[39m) \u001b[38;5;28;01mas\u001b[39;00m json_file:\n\u001b[1;32m     47\u001b[0m     json\u001b[38;5;241m.\u001b[39mdump(weather_data, json_file, indent\u001b[38;5;241m=\u001b[39m\u001b[38;5;241m4\u001b[39m)\n\u001b[1;32m     49\u001b[0m \u001b[38;5;66;03m# Consolidate the data by `valid_time` for the CSV output\u001b[39;00m\n",
      "File \u001b[0;32m~/anaconda3/envs/deeplearn/lib/python3.11/site-packages/IPython/core/interactiveshell.py:324\u001b[0m, in \u001b[0;36m_modified_open\u001b[0;34m(file, *args, **kwargs)\u001b[0m\n\u001b[1;32m    317\u001b[0m \u001b[38;5;28;01mif\u001b[39;00m file \u001b[38;5;129;01min\u001b[39;00m {\u001b[38;5;241m0\u001b[39m, \u001b[38;5;241m1\u001b[39m, \u001b[38;5;241m2\u001b[39m}:\n\u001b[1;32m    318\u001b[0m     \u001b[38;5;28;01mraise\u001b[39;00m \u001b[38;5;167;01mValueError\u001b[39;00m(\n\u001b[1;32m    319\u001b[0m         \u001b[38;5;124mf\u001b[39m\u001b[38;5;124m\"\u001b[39m\u001b[38;5;124mIPython won\u001b[39m\u001b[38;5;124m'\u001b[39m\u001b[38;5;124mt let you open fd=\u001b[39m\u001b[38;5;132;01m{\u001b[39;00mfile\u001b[38;5;132;01m}\u001b[39;00m\u001b[38;5;124m by default \u001b[39m\u001b[38;5;124m\"\u001b[39m\n\u001b[1;32m    320\u001b[0m         \u001b[38;5;124m\"\u001b[39m\u001b[38;5;124mas it is likely to crash IPython. If you know what you are doing, \u001b[39m\u001b[38;5;124m\"\u001b[39m\n\u001b[1;32m    321\u001b[0m         \u001b[38;5;124m\"\u001b[39m\u001b[38;5;124myou can use builtins\u001b[39m\u001b[38;5;124m'\u001b[39m\u001b[38;5;124m open.\u001b[39m\u001b[38;5;124m\"\u001b[39m\n\u001b[1;32m    322\u001b[0m     )\n\u001b[0;32m--> 324\u001b[0m \u001b[38;5;28;01mreturn\u001b[39;00m io_open(file, \u001b[38;5;241m*\u001b[39margs, \u001b[38;5;241m*\u001b[39m\u001b[38;5;241m*\u001b[39mkwargs)\n",
      "\u001b[0;31mFileNotFoundError\u001b[0m: [Errno 2] No such file or directory: 'temp/2023_weather_data_by_location.json'"
     ]
    }
   ],
   "source": [
    "import os\n",
    "import pandas as pd\n",
    "import json\n",
    "\n",
    "# Configuration\n",
    "year = 2023\n",
    "base_dir = \"temp\"\n",
    "\n",
    "# Initialize the main dictionary\n",
    "weather_data = {}\n",
    "\n",
    "# Iterate through all months\n",
    "for month in range(1, 13):\n",
    "    month_dir = os.path.join(base_dir, str(year), f\"{month:02d}\")\n",
    "    month_file = os.path.join(month_dir, \"weather_data.csv\")\n",
    "    \n",
    "    # Check if the month's file exists\n",
    "    if not os.path.exists(month_file):\n",
    "        print(f\"Skipping {month_file}: File not found.\")\n",
    "        continue\n",
    "\n",
    "    # Load the CSV file for the month\n",
    "    print(f\"Processing {month_file}...\")\n",
    "    df = pd.read_csv(month_file)\n",
    "\n",
    "    # Convert time columns to datetime for easier processing\n",
    "    df[\"valid_time\"] = pd.to_datetime(df[\"valid_time\"])\n",
    "\n",
    "    # Group the data by location\n",
    "    for location, group in df.groupby(\"location_name\"):\n",
    "        # Initialize the location's data if not already present\n",
    "        if location not in weather_data:\n",
    "            weather_data[location] = []\n",
    "\n",
    "        # Drop duplicate time slots by keeping the first non-NaN row for each `valid_time`\n",
    "        group = group.sort_values(\"valid_time\").dropna(subset=[\"t2m\", \"ssr\", \"u10\", \"v10\", \"sp\", \"tp\"], how='all')\n",
    "        group = group.groupby(\"valid_time\").first().reset_index()\n",
    "\n",
    "        # Process each row in the location's data\n",
    "        for _, row in group.iterrows():\n",
    "            # Create a dictionary for the current time slot\n",
    "            time_slot_data = {\n",
    "                \"valid_time\": row[\"valid_time\"].isoformat(),\n",
    "                \"latitude\": row[\"latitude\"],\n",
    "                \"longitude\": row[\"longitude\"],\n",
    "                \"temperature\": row[\"t2m\"],\n",
    "                \"solar_radiation\": row[\"ssr\"],\n",
    "                \"wind_u_component\": row[\"u10\"],\n",
    "                \"wind_v_component\": row[\"v10\"],\n",
    "                \"surface_pressure\": row[\"sp\"],\n",
    "                \"total_precipitation\": row[\"tp\"],\n",
    "            }\n",
    "            weather_data[location].append(time_slot_data)\n",
    "\n",
    "# Save the dictionary to a JSON file\n",
    "output_file = os.path.join(base_dir, f\"{year}_weather_data_by_location.json\")\n",
    "with open(output_file, \"w\") as json_file:\n",
    "    json.dump(weather_data, json_file, indent=4)\n",
    "\n",
    "print(f\"Weather data organized by location saved to {output_file}.\")\n"
   ]
  },
  {
   "cell_type": "code",
   "execution_count": null,
   "metadata": {},
   "outputs": [
    {
     "name": "stdout",
     "output_type": "stream",
     "text": [
      "Consolidated weather data by time saved to consolidated_weather_data_by_time.csv.\n"
     ]
    }
   ],
   "source": [
    "import pandas as pd\n",
    "import json\n",
    "\n",
    "# Load the JSON file\n",
    "input_file = \"weather_data_by_location.json\"\n",
    "output_csv_file = \"consolidated_weather_data_by_time.csv\"\n",
    "\n",
    "with open(input_file, \"r\") as json_file:\n",
    "    weather_data = json.load(json_file)\n",
    "\n",
    "# Create a dictionary to hold data for the DataFrame\n",
    "consolidated_data = {}\n",
    "\n",
    "# Process each location\n",
    "for location, records in weather_data.items():\n",
    "    for record in records:\n",
    "        valid_time = record[\"valid_time\"]\n",
    "\n",
    "        # Ensure the valid_time exists in the consolidated data\n",
    "        if valid_time not in consolidated_data:\n",
    "            consolidated_data[valid_time] = {}\n",
    "\n",
    "        # Flatten location-specific data into consolidated_data\n",
    "        consolidated_data[valid_time].update({\n",
    "            f\"{location}_latitude\": record[\"latitude\"],\n",
    "            f\"{location}_longitude\": record[\"longitude\"],\n",
    "            f\"{location}_temperature\": record[\"temperature\"],\n",
    "            f\"{location}_solar_radiation\": record[\"solar_radiation\"],\n",
    "            f\"{location}_wind_u_component\": record[\"wind_u_component\"],\n",
    "            f\"{location}_wind_v_component\": record[\"wind_v_component\"],\n",
    "            f\"{location}_surface_pressure\": record[\"surface_pressure\"],\n",
    "            f\"{location}_total_precipitation\": record[\"total_precipitation\"],\n",
    "        })\n",
    "\n",
    "# Convert the consolidated dictionary into a DataFrame\n",
    "df = pd.DataFrame.from_dict(consolidated_data, orient=\"index\").reset_index()\n",
    "\n",
    "# Rename the index column to \"valid_time\"\n",
    "df.rename(columns={\"index\": \"valid_time\"}, inplace=True)\n",
    "\n",
    "# Save the DataFrame to a CSV file\n",
    "df.to_csv(output_csv_file, index=False)\n",
    "\n",
    "print(f\"Consolidated weather data by time saved to {output_csv_file}.\")\n"
   ]
  },
  {
   "cell_type": "markdown",
   "metadata": {},
   "source": [
    "### validation shit I think"
   ]
  },
  {
   "cell_type": "code",
   "execution_count": 16,
   "metadata": {},
   "outputs": [
    {
     "name": "stdout",
     "output_type": "stream",
     "text": [
      "Loading output_weather_data/weather_data_2023.csv...\n",
      "Processing data...\n",
      "Saving data by location to output_weather_data/weather_data_by_location_2023.json...\n",
      "Consolidating data by time...\n",
      "Saving consolidated data to output_weather_data/consolidated_weather_data_by_time_2023.csv...\n",
      "Processing complete.\n"
     ]
    }
   ],
   "source": [
    "import os\n",
    "import pandas as pd\n",
    "import json\n",
    "\n",
    "# Configuration\n",
    "input_csv = \"output_weather_data/weather_data_2023.csv\"\n",
    "output_json = \"output_weather_data/weather_data_by_location_2023.json\"\n",
    "output_csv = \"output_weather_data/consolidated_weather_data_by_time_2023.csv\"\n",
    "\n",
    "# Load the CSV file\n",
    "print(f\"Loading {input_csv}...\")\n",
    "df = pd.read_csv(input_csv)\n",
    "\n",
    "# Convert time columns to datetime for easier processing\n",
    "df[\"valid_time\"] = pd.to_datetime(df[\"valid_time\"])\n",
    "\n",
    "# Initialize the main dictionary\n",
    "weather_data = {}\n",
    "\n",
    "# Group the data by location and valid_time\n",
    "print(\"Processing data...\")\n",
    "grouped = df.groupby([\"location_name\", \"valid_time\"])\n",
    "\n",
    "for (location, valid_time), group in grouped:\n",
    "    # Initialize the location's data if not already present\n",
    "    if location not in weather_data:\n",
    "        weather_data[location] = []\n",
    "\n",
    "    # Aggregate data for the time slot\n",
    "    aggregated_data = {\n",
    "        \"valid_time\": valid_time.isoformat(),\n",
    "        \"latitude\": group[\"latitude\"].mean(skipna=True),\n",
    "        \"longitude\": group[\"longitude\"].mean(skipna=True),\n",
    "        \"temperature\": group[\"t2m\"].mean(skipna=True),\n",
    "        \"solar_radiation\": group[\"ssr\"].mean(skipna=True),\n",
    "        \"wind_u_component\": group[\"u10\"].mean(skipna=True),\n",
    "        \"wind_v_component\": group[\"v10\"].mean(skipna=True),\n",
    "        \"surface_pressure\": group[\"sp\"].mean(skipna=True),\n",
    "        \"total_precipitation\": group[\"tp\"].mean(skipna=True),\n",
    "    }\n",
    "    weather_data[location].append(aggregated_data)\n",
    "\n",
    "# Save the dictionary to a JSON file\n",
    "print(f\"Saving data by location to {output_json}...\")\n",
    "with open(output_json, \"w\") as json_file:\n",
    "    json.dump(weather_data, json_file, indent=4)\n",
    "\n",
    "# Consolidate data by valid_time\n",
    "print(\"Consolidating data by time...\")\n",
    "consolidated_data = {}\n",
    "\n",
    "# Process each location\n",
    "for location, records in weather_data.items():\n",
    "    for record in records:\n",
    "        valid_time = record[\"valid_time\"]\n",
    "\n",
    "        # Ensure the valid_time exists in the consolidated data\n",
    "        if valid_time not in consolidated_data:\n",
    "            consolidated_data[valid_time] = {}\n",
    "\n",
    "        # Flatten location-specific data into consolidated_data\n",
    "        consolidated_data[valid_time].update({\n",
    "            f\"{location}_latitude\": record[\"latitude\"],\n",
    "            f\"{location}_longitude\": record[\"longitude\"],\n",
    "            f\"{location}_temperature\": record[\"temperature\"],\n",
    "            f\"{location}_solar_radiation\": record[\"solar_radiation\"],\n",
    "            f\"{location}_wind_u_component\": record[\"wind_u_component\"],\n",
    "            f\"{location}_wind_v_component\": record[\"wind_v_component\"],\n",
    "            f\"{location}_surface_pressure\": record[\"surface_pressure\"],\n",
    "            f\"{location}_total_precipitation\": record[\"total_precipitation\"],\n",
    "        })\n",
    "\n",
    "# Convert the consolidated dictionary into a DataFrame\n",
    "df_consolidated = pd.DataFrame.from_dict(consolidated_data, orient=\"index\").reset_index()\n",
    "\n",
    "# Rename the index column to \"valid_time\"\n",
    "df_consolidated.rename(columns={\"index\": \"valid_time\"}, inplace=True)\n",
    "\n",
    "# Save the DataFrame to a CSV file\n",
    "print(f\"Saving consolidated data to {output_csv}...\")\n",
    "df_consolidated.to_csv(output_csv, index=False)\n",
    "\n",
    "print(\"Processing complete.\")\n"
   ]
  }
 ],
 "metadata": {
  "kernelspec": {
   "display_name": "deeplearn",
   "language": "python",
   "name": "python3"
  },
  "language_info": {
   "codemirror_mode": {
    "name": "ipython",
    "version": 3
   },
   "file_extension": ".py",
   "mimetype": "text/x-python",
   "name": "python",
   "nbconvert_exporter": "python",
   "pygments_lexer": "ipython3",
   "version": "3.11.0"
  }
 },
 "nbformat": 4,
 "nbformat_minor": 2
}
