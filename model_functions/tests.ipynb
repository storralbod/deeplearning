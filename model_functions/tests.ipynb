{
 "cells": [
  {
   "cell_type": "code",
   "execution_count": null,
   "metadata": {},
   "outputs": [
    {
     "ename": "ModuleNotFoundError",
     "evalue": "No module named 'model'",
     "output_type": "error",
     "traceback": [
      "\u001b[1;31m---------------------------------------------------------------------------\u001b[0m",
      "\u001b[1;31mModuleNotFoundError\u001b[0m                       Traceback (most recent call last)",
      "Cell \u001b[1;32mIn[2], line 2\u001b[0m\n\u001b[0;32m      1\u001b[0m \u001b[38;5;28;01mimport\u001b[39;00m \u001b[38;5;21;01mpandas\u001b[39;00m \u001b[38;5;28;01mas\u001b[39;00m \u001b[38;5;21;01mpd\u001b[39;00m\n\u001b[1;32m----> 2\u001b[0m \u001b[38;5;28;01mimport\u001b[39;00m \u001b[38;5;21;01mmodel\u001b[39;00m \u001b[38;5;28;01mas\u001b[39;00m \u001b[38;5;21;01mm\u001b[39;00m\n\u001b[0;32m      3\u001b[0m \u001b[38;5;28;01mimport\u001b[39;00m \u001b[38;5;21;01mtorch\u001b[39;00m\n\u001b[0;32m      4\u001b[0m \u001b[38;5;28;01mimport\u001b[39;00m \u001b[38;5;21;01mtorch\u001b[39;00m\u001b[38;5;21;01m.\u001b[39;00m\u001b[38;5;21;01mnn\u001b[39;00m \u001b[38;5;28;01mas\u001b[39;00m \u001b[38;5;21;01mnn\u001b[39;00m\n",
      "\u001b[1;31mModuleNotFoundError\u001b[0m: No module named 'model'"
     ]
    }
   ],
   "source": [
    "import pandas as pd\n",
    "from model import LSTM_Tamas, train_lagged_forecaster, predict, plot_quantile_forecasts, LaggedPriceDataset_Tamas\n",
    "from torch.utils.data import DataLoader\n",
    "import torch"
   ]
  },
  {
   "cell_type": "code",
   "execution_count": null,
   "metadata": {},
   "outputs": [],
   "source": [
    "if __name__ == \"__main__\":\n",
    "    data = pd.read_csv(\"formatted_data\\formatted_data.csv\")\n",
    "    data[\"DA\"] = data[\"DA\"].fillna(0)\n",
    "\n",
    "    lags = [24, 48, 72, 168]\n",
    "    quantiles = [0.3, 0.5, 0.7]\n",
    "    forecast_horizon = 24\n",
    "\n",
    "    train_data = data.iloc[:-200]\n",
    "    test_data = data.iloc[-200:]\n",
    "\n",
    "    train_dataset = LaggedPriceDataset_Tamas(train_data, lags, forecast_horizon)\n",
    "    test_dataset = LaggedPriceDataset_Tamas(test_data, lags, forecast_horizon)\n",
    "    train_loader = DataLoader(train_dataset, batch_size=32, shuffle=True)\n",
    "    test_loader = DataLoader(test_dataset, batch_size=1, shuffle=False)\n",
    "\n",
    "    trained_model = train_lagged_forecaster(\n",
    "        model_class=LSTM_Tamas,\n",
    "        data=train_data,\n",
    "        lags=lags,\n",
    "        input_size=8,\n",
    "        hidden_size=64,\n",
    "        num_layers=2,\n",
    "        dropout=0.1,\n",
    "        forecast_horizon=forecast_horizon,\n",
    "        attention_heads=4,\n",
    "        quantiles=quantiles,\n",
    "        num_epochs=10,\n",
    "        batch_size=32,\n",
    "        optimizer_class=torch.optim.Adam,\n",
    "        learning_rate=0.001,\n",
    "        device=\"cpu\",\n",
    "    )\n",
    "\n",
    "    forecasts, true_values = predict(trained_model, test_loader, device=\"cpu\")\n",
    "    plot_quantile_forecasts(forecasts, true_values, quantiles=quantiles, forecast_horizon=forecast_horizon)"
   ]
  }
 ],
 "metadata": {
  "kernelspec": {
   "display_name": "Python 3",
   "language": "python",
   "name": "python3"
  },
  "language_info": {
   "codemirror_mode": {
    "name": "ipython",
    "version": 3
   },
   "file_extension": ".py",
   "mimetype": "text/x-python",
   "name": "python",
   "nbconvert_exporter": "python",
   "pygments_lexer": "ipython3",
   "version": "3.11.9"
  }
 },
 "nbformat": 4,
 "nbformat_minor": 2
}
