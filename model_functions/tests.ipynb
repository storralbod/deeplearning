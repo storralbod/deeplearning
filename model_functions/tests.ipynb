{
 "cells": [
  {
   "cell_type": "code",
   "execution_count": null,
   "metadata": {
    "vscode": {
     "languageId": "plaintext"
    }
   },
   "outputs": [],
   "source": [
    "import pandas as pd\n",
    "from model import LSTM_Tamas, train_lagged_forecaster, predict, plot_quantile_forecasts, LaggedPriceDataset_Tamas\n",
    "from torch.utils.data import DataLoader\n",
    "import torch\n",
    "\n",
    "if __name__ == \"__main__\":\n",
    "    data = pd.read_csv(\"formatted_data.csv\")\n",
    "    data[\"DA\"] = data[\"DA\"].fillna(0)\n",
    "\n",
    "    lags = [24, 48, 72, 168]\n",
    "    quantiles = [0.3, 0.5, 0.7]\n",
    "    forecast_horizon = 24\n",
    "\n",
    "    train_data = data.iloc[:-200]\n",
    "    test_data = data.iloc[-200:]\n",
    "\n",
    "    train_dataset = LaggedPriceDataset_Tamas(train_data, lags, forecast_horizon)\n",
    "    test_dataset = LaggedPriceDataset_Tamas(test_data, lags, forecast_horizon)\n",
    "    train_loader = DataLoader(train_dataset, batch_size=32, shuffle=True)\n",
    "    test_loader = DataLoader(test_dataset, batch_size=1, shuffle=False)\n",
    "\n",
    "    trained_model = train_lagged_forecaster(\n",
    "        model_class=LSTM_Tamas,\n",
    "        data=train_data,\n",
    "        lags=lags,\n",
    "        input_size=8,\n",
    "        hidden_size=64,\n",
    "        num_layers=2,\n",
    "        dropout=0.1,\n",
    "        forecast_horizon=forecast_horizon,\n",
    "        attention_heads=4,\n",
    "        quantiles=quantiles,\n",
    "        num_epochs=10,\n",
    "        batch_size=32,\n",
    "        optimizer_class=torch.optim.Adam,\n",
    "        learning_rate=0.001,\n",
    "        device=\"cpu\",\n",
    "    )\n",
    "\n",
    "    forecasts, true_values = predict(trained_model, test_loader, device=\"cpu\")\n",
    "    plot_quantile_forecasts(forecasts, true_values, quantiles=quantiles, forecast_horizon=forecast_horizon)\n"
   ]
  }
 ],
 "metadata": {
  "language_info": {
   "name": "python"
  }
 },
 "nbformat": 4,
 "nbformat_minor": 2
}
