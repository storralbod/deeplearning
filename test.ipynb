{
 "cells": [
  {
   "cell_type": "code",
   "execution_count": null,
   "metadata": {},
   "outputs": [],
   "source": [
    "import pandas as pd\n",
    "import lstm_functions as lf\n",
    "import datetime as dt\n",
    "import numpy as np\n",
    "from scipy.ndimage import gaussian_filter"
   ]
  },
  {
   "cell_type": "code",
   "execution_count": null,
   "metadata": {},
   "outputs": [],
   "source": [
    "# oil_data = yf.download('CL=F', start='2023-01-01', end='2023-12-31')\n",
    "# oil_data.drop(['Open', 'High', 'Low', 'Adj Close', 'Volume'], axis=1, inplace=True)\n",
    "\n",
    "data = pd.read_csv('model/merged_marginal_data.csv')\n",
    "\n",
    "data['Date'] = data.apply(\n",
    "    lambda row: (\n",
    "        dt.datetime(row['Year'].astype(int), row['Month'].astype(int), row['Day'].astype(int), 23, 59, 59)\n",
    "        if row['Hour'].astype(int) == 24 or row['Hour'].astype(int) == 25\n",
    "        else dt.datetime(row['Year'].astype(int), row['Month'].astype(int), row['Day'].astype(int), row['Hour'].astype(int))\n",
    "    ), \n",
    "    axis=1\n",
    ")\n",
    "\n",
    "data.drop(['Year', 'Month', 'Day', 'Hour'], axis=1, inplace=True)\n",
    "data.set_index('Date', inplace=True)\n",
    "data = data['Price1']\n",
    "data = data.sort_index()"
   ]
  },
  {
   "cell_type": "code",
   "execution_count": null,
   "metadata": {},
   "outputs": [],
   "source": [
    "data_series = pd.Series(data.values, index=pd.to_datetime(data.index))\n",
    "\n",
    "#avoid 0 values by small addition\n",
    "data_series = data_series + 0.0000001"
   ]
  },
  {
   "cell_type": "code",
   "execution_count": null,
   "metadata": {},
   "outputs": [],
   "source": [
    "data_series.max()"
   ]
  },
  {
   "cell_type": "code",
   "execution_count": null,
   "metadata": {},
   "outputs": [],
   "source": [
    "look_back = 36\n",
    "log = True\n",
    "difference = True\n",
    "transforms = [log, difference]\n",
    "\n",
    "nodes = 4\n",
    "epochs = 2\n",
    "verbose = 0 # 0=print no output, 1=most, 2=less, 3=least\n",
    "lstm_params = [nodes, epochs, verbose]\n",
    "\n",
    "# Remove duplicate indices\n",
    "data_series = data_series[~data_series.index.duplicated(keep='first')]\n",
    "\n",
    "train_predict, y_train, test_predict, y_test = lf.lstm_model(data_series, look_back, transforms, lstm_params)"
   ]
  },
  {
   "cell_type": "code",
   "execution_count": null,
   "metadata": {},
   "outputs": [],
   "source": [
    "gaussian_filtering = pd.Series(gaussian_filter(data_series, sigma=1), index=data_series.index).astype(float)\n",
    "# running LSTM with Gaussian-filtered data\n",
    "look_back = 36\n",
    "log = True\n",
    "difference = True\n",
    "transforms = [log, difference]\n",
    "\n",
    "nodes = 4\n",
    "epochs = 50\n",
    "verbose = 0 # 0=print no output, 1=most, 2=less, 3=least\n",
    "lstm_params = [nodes, epochs, verbose]\n",
    "\n",
    "train_predict, y_train, test_predict, y_test = lf.lstm_model(gaussian_filtering, look_back, transforms, lstm_params)"
   ]
  },
  {
   "cell_type": "code",
   "execution_count": null,
   "metadata": {},
   "outputs": [],
   "source": [
    "# comparing gaussian model results to original data\n",
    "lf.gauss_compare(data_series, test_predict)"
   ]
  }
 ],
 "metadata": {
  "kernelspec": {
   "display_name": "Python 3",
   "language": "python",
   "name": "python3"
  },
  "language_info": {
   "codemirror_mode": {
    "name": "ipython",
    "version": 3
   },
   "file_extension": ".py",
   "mimetype": "text/x-python",
   "name": "python",
   "nbconvert_exporter": "python",
   "pygments_lexer": "ipython3",
   "version": "3.11.9"
  }
 },
 "nbformat": 4,
 "nbformat_minor": 2
}
